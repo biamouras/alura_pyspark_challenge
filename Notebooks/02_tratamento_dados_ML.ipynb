{
  "nbformat": 4,
  "nbformat_minor": 0,
  "metadata": {
    "colab": {
      "provenance": [],
      "authorship_tag": "ABX9TyM/pWpkD46UL/4AyNhJz91I",
      "include_colab_link": true
    },
    "kernelspec": {
      "name": "python3",
      "display_name": "Python 3"
    },
    "language_info": {
      "name": "python"
    }
  },
  "cells": [
    {
      "cell_type": "markdown",
      "metadata": {
        "id": "view-in-github",
        "colab_type": "text"
      },
      "source": [
        "<a href=\"https://colab.research.google.com/github/biamouras/alura_pyspark_challenge/blob/main/Notebooks/02_tratamento_dados_ML.ipynb\" target=\"_parent\"><img src=\"https://colab.research.google.com/assets/colab-badge.svg\" alt=\"Open In Colab\"/></a>"
      ]
    },
    {
      "cell_type": "markdown",
      "source": [
        "# Insightplaces - Tratamento dos dados para ML"
      ],
      "metadata": {
        "id": "Z6Y09-iCLAZE"
      }
    },
    {
      "cell_type": "markdown",
      "source": [
        "A Insightplaces, plataforma fantasia de imóveis da Alura, está com dificuldades para definir os valores do imóveis e gostaria de fazer de modo automatizado. Ainda, a empresa percebeu que o recomendador atual não está sendo efetivo para gerar novos cliques entre os usuários.\n",
        "\n",
        "Nosso projeto será trabalhar com os dados disponibilizados de imóveis no Rio de Janeiro para ajudar a empresa a lidar com estes dois problemas usando regressão para a definição dos valores e a análise de agrupamentos através de Machine Learning. "
      ],
      "metadata": {
        "id": "TkJB05-Ms-xa"
      }
    },
    {
      "cell_type": "markdown",
      "source": [
        "Este segundo projeto tem o foco de preparar os dados para os modelos de previsão."
      ],
      "metadata": {
        "id": "tT8cPwuVtJaj"
      }
    },
    {
      "cell_type": "code",
      "source": [],
      "metadata": {
        "id": "H_zWQCcLvRbv"
      },
      "execution_count": null,
      "outputs": []
    }
  ]
}