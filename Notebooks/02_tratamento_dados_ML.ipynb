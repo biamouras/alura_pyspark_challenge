{
  "nbformat": 4,
  "nbformat_minor": 0,
  "metadata": {
    "colab": {
      "provenance": [],
      "authorship_tag": "ABX9TyOFZevhyJIeyhy4GndSt0RX",
      "include_colab_link": true
    },
    "kernelspec": {
      "name": "python3",
      "display_name": "Python 3"
    },
    "language_info": {
      "name": "python"
    }
  },
  "cells": [
    {
      "cell_type": "markdown",
      "metadata": {
        "id": "view-in-github",
        "colab_type": "text"
      },
      "source": [
        "<a href=\"https://colab.research.google.com/github/biamouras/alura_pyspark_challenge/blob/main/Notebooks/02_tratamento_dados_ML.ipynb\" target=\"_parent\"><img src=\"https://colab.research.google.com/assets/colab-badge.svg\" alt=\"Open In Colab\"/></a>"
      ]
    },
    {
      "cell_type": "markdown",
      "source": [
        "# Insightplaces - Tratamento dos dados para ML"
      ],
      "metadata": {
        "id": "Z6Y09-iCLAZE"
      }
    },
    {
      "cell_type": "markdown",
      "source": [
        "A Insightplaces, plataforma fantasia de imóveis da Alura, está com dificuldades para definir os valores do imóveis e gostaria de fazer de modo automatizado. Ainda, a empresa percebeu que o recomendador atual não está sendo efetivo para gerar novos cliques entre os usuários.\n",
        "\n",
        "Nosso projeto será trabalhar com os dados disponibilizados de imóveis no Rio de Janeiro para ajudar a empresa a lidar com estes dois problemas usando regressão para a definição dos valores e a análise de agrupamentos através de Machine Learning. "
      ],
      "metadata": {
        "id": "TkJB05-Ms-xa"
      }
    },
    {
      "cell_type": "markdown",
      "source": [
        "Este segundo projeto tem o foco de preparar os dados para os modelos de previsão a partir de dados já tratados."
      ],
      "metadata": {
        "id": "tT8cPwuVtJaj"
      }
    },
    {
      "cell_type": "markdown",
      "source": [
        "## Carregando os dados"
      ],
      "metadata": {
        "id": "H_zWQCcLvRbv"
      }
    },
    {
      "cell_type": "code",
      "source": [
        "from os import environ, listdir"
      ],
      "metadata": {
        "id": "DnpeK-x9vw7r"
      },
      "execution_count": 1,
      "outputs": []
    },
    {
      "cell_type": "code",
      "source": [
        "# instalar as dependências para utilizar Spark no Colab\n",
        "instala = True\n",
        "\n",
        "# verifica se já está instalado \n",
        "for f in listdir('/content'):\n",
        "  if f.find('spark') != -1:\n",
        "    instala = False\n",
        "    break \n",
        "\n",
        "if instala:\n",
        "  !apt-get update -qq\n",
        "  !apt-get install openjdk-8-jdk-headless -qq > /dev/null\n",
        "\n",
        "  !wget -q https://archive.apache.org/dist/spark/spark-3.1.2/spark-3.1.2-bin-hadoop2.7.tgz\n",
        "  !tar xf spark-3.1.2-bin-hadoop2.7.tgz\n",
        "  !pip install -q findspark\n",
        "\n",
        "environ[\"JAVA_HOME\"] = \"/usr/lib/jvm/java-8-openjdk-amd64\"\n",
        "environ[\"SPARK_HOME\"] = \"/content/spark-3.1.2-bin-hadoop2.7\"\n",
        "\n",
        "import findspark\n",
        "findspark.init()"
      ],
      "metadata": {
        "id": "yW_nIYFJvyM2"
      },
      "execution_count": 2,
      "outputs": []
    },
    {
      "cell_type": "code",
      "source": [
        "# iniciando o pyspark\n",
        "from pyspark.sql import SparkSession\n",
        "\n",
        "spark = SparkSession.builder \\\n",
        "    .master('local[*]') \\\n",
        "    .appName(\"Iniciando com Spark\") \\\n",
        "    .config('spark.ui.port', '4050')\\\n",
        "    .getOrCreate()"
      ],
      "metadata": {
        "id": "AVF5jUrvv0Of"
      },
      "execution_count": 3,
      "outputs": []
    },
    {
      "cell_type": "code",
      "source": [
        "# monta a conexão com o drive\n",
        "from google.colab import drive\n",
        "drive.mount('/content/drive')"
      ],
      "metadata": {
        "colab": {
          "base_uri": "https://localhost:8080/"
        },
        "id": "W4-UxOfiv3hO",
        "outputId": "4931b9f4-5f34-4f3d-de48-0d353428f33c"
      },
      "execution_count": 4,
      "outputs": [
        {
          "output_type": "stream",
          "name": "stdout",
          "text": [
            "Mounted at /content/drive\n"
          ]
        }
      ]
    },
    {
      "cell_type": "code",
      "source": [
        "# biblioteca para abrir o arquivo compactado\n",
        "import zipfile"
      ],
      "metadata": {
        "id": "qQ9Tu_myv9TR"
      },
      "execution_count": 5,
      "outputs": []
    },
    {
      "cell_type": "code",
      "source": [
        "# caminho do arquivo \n",
        "name = 'semana-2'\n",
        "dir_dados = '/content/drive/MyDrive/Colab Notebooks/alura_challenge_insightplaces/dados/' + name + '/'\n",
        "\n",
        "# descompressão do arquivo\n",
        "zipfile.ZipFile(dir_dados + name + '.zip', 'r').extractall(dir_dados)\n",
        "# identificação do arquivo descomprimido\n",
        "files = listdir(dir_dados)\n",
        "files "
      ],
      "metadata": {
        "colab": {
          "base_uri": "https://localhost:8080/"
        },
        "id": "IlTgL722wA_R",
        "outputId": "a12438bf-2fff-4d66-affe-6470e9492d3e"
      },
      "execution_count": 25,
      "outputs": [
        {
          "output_type": "execute_result",
          "data": {
            "text/plain": [
              "['semana-2.zip', 'dataset_transformado_parquet']"
            ]
          },
          "metadata": {},
          "execution_count": 25
        }
      ]
    },
    {
      "cell_type": "code",
      "source": [
        "# o zip contém uma pasta\n",
        "dir_dados_originais = dir_dados + files[1]\n",
        "# verifica os arquivos dentro da pasta comprimida\n",
        "files = listdir(dir_dados_originais)\n",
        "files"
      ],
      "metadata": {
        "colab": {
          "base_uri": "https://localhost:8080/"
        },
        "id": "NUwk5PGNzImW",
        "outputId": "9cd3e838-de43-4709-ff2b-2971066a7663"
      },
      "execution_count": 30,
      "outputs": [
        {
          "output_type": "execute_result",
          "data": {
            "text/plain": [
              "['_SUCCESS',\n",
              " '._SUCCESS.crc',\n",
              " 'part-00000-00341ba7-0a7c-4fef-a81e-1066725a64b1-c000.snappy.parquet',\n",
              " '.part-00000-00341ba7-0a7c-4fef-a81e-1066725a64b1-c000.snappy.parquet.crc']"
            ]
          },
          "metadata": {},
          "execution_count": 30
        }
      ]
    },
    {
      "cell_type": "code",
      "source": [
        "# leitura do parquet\n",
        "dados = spark.read.parquet(dir_dados_originais + '/' + files[2])\n",
        "dados.printSchema()"
      ],
      "metadata": {
        "colab": {
          "base_uri": "https://localhost:8080/"
        },
        "id": "JFVf1XhLwLDB",
        "outputId": "5a25900c-9a53-4d12-85c7-04e108d809eb"
      },
      "execution_count": 32,
      "outputs": [
        {
          "output_type": "stream",
          "name": "stdout",
          "text": [
            "root\n",
            " |-- id: string (nullable = true)\n",
            " |-- andar: long (nullable = true)\n",
            " |-- area_total: string (nullable = true)\n",
            " |-- area_util: string (nullable = true)\n",
            " |-- banheiros: long (nullable = true)\n",
            " |-- caracteristicas: array (nullable = true)\n",
            " |    |-- element: string (containsNull = true)\n",
            " |-- quartos: long (nullable = true)\n",
            " |-- suites: long (nullable = true)\n",
            " |-- tipo_anuncio: string (nullable = true)\n",
            " |-- tipo_unidade: string (nullable = true)\n",
            " |-- tipo_uso: string (nullable = true)\n",
            " |-- vaga: long (nullable = true)\n",
            " |-- bairro: string (nullable = true)\n",
            " |-- zona: string (nullable = true)\n",
            " |-- condominio: string (nullable = true)\n",
            " |-- iptu: string (nullable = true)\n",
            " |-- tipo: string (nullable = true)\n",
            " |-- valor: string (nullable = true)\n",
            "\n"
          ]
        }
      ]
    },
    {
      "cell_type": "markdown",
      "source": [
        "## Seleção de features"
      ],
      "metadata": {
        "id": "mu4C6Sua2SCl"
      }
    },
    {
      "cell_type": "code",
      "source": [],
      "metadata": {
        "id": "TAWE6hX02Uz2"
      },
      "execution_count": null,
      "outputs": []
    }
  ]
}