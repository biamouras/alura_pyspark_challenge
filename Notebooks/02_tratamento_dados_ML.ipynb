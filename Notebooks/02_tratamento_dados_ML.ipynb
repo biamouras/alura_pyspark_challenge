{
  "nbformat": 4,
  "nbformat_minor": 0,
  "metadata": {
    "colab": {
      "provenance": [],
      "authorship_tag": "ABX9TyOb4axVlAa9s9FzY65+BC/X",
      "include_colab_link": true
    },
    "kernelspec": {
      "name": "python3",
      "display_name": "Python 3"
    },
    "language_info": {
      "name": "python"
    }
  },
  "cells": [
    {
      "cell_type": "markdown",
      "metadata": {
        "id": "view-in-github",
        "colab_type": "text"
      },
      "source": [
        "<a href=\"https://colab.research.google.com/github/biamouras/alura_pyspark_challenge/blob/main/Notebooks/02_tratamento_dados_ML.ipynb\" target=\"_parent\"><img src=\"https://colab.research.google.com/assets/colab-badge.svg\" alt=\"Open In Colab\"/></a>"
      ]
    },
    {
      "cell_type": "markdown",
      "source": [
        "# Insightplaces - Tratamento dos dados para ML"
      ],
      "metadata": {
        "id": "Z6Y09-iCLAZE"
      }
    },
    {
      "cell_type": "markdown",
      "source": [
        "A Insightplaces, plataforma fantasia de imóveis da Alura, está com dificuldades para definir os valores do imóveis e gostaria de fazer de modo automatizado. Ainda, a empresa percebeu que o recomendador atual não está sendo efetivo para gerar novos cliques entre os usuários.\n",
        "\n",
        "Nosso projeto será trabalhar com os dados disponibilizados de imóveis no Rio de Janeiro para ajudar a empresa a lidar com estes dois problemas usando regressão para a definição dos valores e a análise de agrupamentos através de Machine Learning. "
      ],
      "metadata": {
        "id": "TkJB05-Ms-xa"
      }
    },
    {
      "cell_type": "markdown",
      "source": [
        "Este segundo projeto tem o foco de preparar os dados para os modelos de previsão a partir de dados já tratados."
      ],
      "metadata": {
        "id": "tT8cPwuVtJaj"
      }
    },
    {
      "cell_type": "markdown",
      "source": [
        "## Carregando os dados"
      ],
      "metadata": {
        "id": "H_zWQCcLvRbv"
      }
    },
    {
      "cell_type": "code",
      "source": [
        "from os import environ, listdir"
      ],
      "metadata": {
        "id": "DnpeK-x9vw7r"
      },
      "execution_count": 1,
      "outputs": []
    },
    {
      "cell_type": "code",
      "source": [
        "# instalar as dependências para utilizar Spark no Colab\n",
        "instala = True\n",
        "\n",
        "# verifica se já está instalado \n",
        "for f in listdir('/content'):\n",
        "  if f.find('spark') != -1:\n",
        "    instala = False\n",
        "    break \n",
        "\n",
        "if instala:\n",
        "  !apt-get update -qq\n",
        "  !apt-get install openjdk-8-jdk-headless -qq > /dev/null\n",
        "\n",
        "  !wget -q https://archive.apache.org/dist/spark/spark-3.1.2/spark-3.1.2-bin-hadoop2.7.tgz\n",
        "  !tar xf spark-3.1.2-bin-hadoop2.7.tgz\n",
        "  !pip install -q findspark\n",
        "\n",
        "environ[\"JAVA_HOME\"] = \"/usr/lib/jvm/java-8-openjdk-amd64\"\n",
        "environ[\"SPARK_HOME\"] = \"/content/spark-3.1.2-bin-hadoop2.7\"\n",
        "\n",
        "import findspark\n",
        "findspark.init()"
      ],
      "metadata": {
        "id": "yW_nIYFJvyM2"
      },
      "execution_count": 2,
      "outputs": []
    },
    {
      "cell_type": "code",
      "source": [
        "# iniciando o pyspark\n",
        "from pyspark.sql import SparkSession\n",
        "\n",
        "spark = SparkSession.builder \\\n",
        "    .master('local[*]') \\\n",
        "    .appName(\"Iniciando com Spark\") \\\n",
        "    .config('spark.ui.port', '4050')\\\n",
        "    .getOrCreate()"
      ],
      "metadata": {
        "id": "AVF5jUrvv0Of"
      },
      "execution_count": 3,
      "outputs": []
    },
    {
      "cell_type": "code",
      "source": [
        "# monta a conexão com o drive\n",
        "from google.colab import drive\n",
        "drive.mount('/content/drive')"
      ],
      "metadata": {
        "colab": {
          "base_uri": "https://localhost:8080/"
        },
        "id": "W4-UxOfiv3hO",
        "outputId": "e7c75217-00fc-4221-e5d4-af6cd6cb45d1"
      },
      "execution_count": 4,
      "outputs": [
        {
          "output_type": "stream",
          "name": "stdout",
          "text": [
            "Mounted at /content/drive\n"
          ]
        }
      ]
    },
    {
      "cell_type": "code",
      "source": [
        "# biblioteca para abrir o arquivo compactado\n",
        "import zipfile"
      ],
      "metadata": {
        "id": "qQ9Tu_myv9TR"
      },
      "execution_count": 5,
      "outputs": []
    },
    {
      "cell_type": "code",
      "source": [
        "# caminho do arquivo \n",
        "name = 'semana-2'\n",
        "dir_dados = '/content/drive/MyDrive/Colab Notebooks/alura_challenge_insightplaces/dados/' + name + '/'\n",
        "\n",
        "# descompressão do arquivo\n",
        "zipfile.ZipFile(dir_dados + name + '.zip', 'r').extractall(dir_dados)\n",
        "# identificação do arquivo descomprimido\n",
        "files = listdir(dir_dados)\n",
        "files "
      ],
      "metadata": {
        "colab": {
          "base_uri": "https://localhost:8080/"
        },
        "id": "IlTgL722wA_R",
        "outputId": "a5dab854-3f70-4d81-f257-c323e56d2f25"
      },
      "execution_count": 6,
      "outputs": [
        {
          "output_type": "execute_result",
          "data": {
            "text/plain": [
              "['semana-2.zip', 'dataset_transformado_parquet']"
            ]
          },
          "metadata": {},
          "execution_count": 6
        }
      ]
    },
    {
      "cell_type": "code",
      "source": [
        "# o zip contém uma pasta\n",
        "dir_dados_originais = dir_dados + files[1]\n",
        "# verifica os arquivos dentro da pasta comprimida\n",
        "files = listdir(dir_dados_originais)\n",
        "files"
      ],
      "metadata": {
        "colab": {
          "base_uri": "https://localhost:8080/"
        },
        "id": "NUwk5PGNzImW",
        "outputId": "842d0d33-87f1-4f53-b439-7ee4ae0f33f4"
      },
      "execution_count": 7,
      "outputs": [
        {
          "output_type": "execute_result",
          "data": {
            "text/plain": [
              "['._SUCCESS.crc',\n",
              " '_SUCCESS',\n",
              " '.part-00000-00341ba7-0a7c-4fef-a81e-1066725a64b1-c000.snappy.parquet.crc',\n",
              " 'part-00000-00341ba7-0a7c-4fef-a81e-1066725a64b1-c000.snappy.parquet']"
            ]
          },
          "metadata": {},
          "execution_count": 7
        }
      ]
    },
    {
      "cell_type": "code",
      "source": [
        "# leitura do parquet\n",
        "parquet_file = [f for f in files if f.endswith('.parquet')][0]\n",
        "dados = spark.read.parquet(dir_dados_originais + '/' + parquet_file)\n",
        "dados.printSchema()"
      ],
      "metadata": {
        "colab": {
          "base_uri": "https://localhost:8080/"
        },
        "id": "JFVf1XhLwLDB",
        "outputId": "8df35b83-f3da-45b3-c955-f398b5c624be"
      },
      "execution_count": 48,
      "outputs": [
        {
          "output_type": "stream",
          "name": "stdout",
          "text": [
            "root\n",
            " |-- id: string (nullable = true)\n",
            " |-- andar: long (nullable = true)\n",
            " |-- area_total: string (nullable = true)\n",
            " |-- area_util: string (nullable = true)\n",
            " |-- banheiros: long (nullable = true)\n",
            " |-- caracteristicas: array (nullable = true)\n",
            " |    |-- element: string (containsNull = true)\n",
            " |-- quartos: long (nullable = true)\n",
            " |-- suites: long (nullable = true)\n",
            " |-- tipo_anuncio: string (nullable = true)\n",
            " |-- tipo_unidade: string (nullable = true)\n",
            " |-- tipo_uso: string (nullable = true)\n",
            " |-- vaga: long (nullable = true)\n",
            " |-- bairro: string (nullable = true)\n",
            " |-- zona: string (nullable = true)\n",
            " |-- condominio: string (nullable = true)\n",
            " |-- iptu: string (nullable = true)\n",
            " |-- tipo: string (nullable = true)\n",
            " |-- valor: string (nullable = true)\n",
            "\n"
          ]
        }
      ]
    },
    {
      "cell_type": "markdown",
      "source": [
        "## Correção do tipo de  variável"
      ],
      "metadata": {
        "id": "n89qAOyHORNO"
      }
    },
    {
      "cell_type": "markdown",
      "source": [
        "Analisando os tipos de dados das colunas, vemos que features que deveriam ser numéricas estão consideradas como `string`. "
      ],
      "metadata": {
        "id": "R8wGXK9FOZ3m"
      }
    },
    {
      "cell_type": "code",
      "source": [
        "dados.printSchema()"
      ],
      "metadata": {
        "colab": {
          "base_uri": "https://localhost:8080/"
        },
        "id": "_4FUiJ8FO1HR",
        "outputId": "c50dbb9f-0470-4fbb-b8d3-30848c2a6b7e"
      },
      "execution_count": 49,
      "outputs": [
        {
          "output_type": "stream",
          "name": "stdout",
          "text": [
            "root\n",
            " |-- id: string (nullable = true)\n",
            " |-- andar: long (nullable = true)\n",
            " |-- area_total: string (nullable = true)\n",
            " |-- area_util: string (nullable = true)\n",
            " |-- banheiros: long (nullable = true)\n",
            " |-- caracteristicas: array (nullable = true)\n",
            " |    |-- element: string (containsNull = true)\n",
            " |-- quartos: long (nullable = true)\n",
            " |-- suites: long (nullable = true)\n",
            " |-- tipo_anuncio: string (nullable = true)\n",
            " |-- tipo_unidade: string (nullable = true)\n",
            " |-- tipo_uso: string (nullable = true)\n",
            " |-- vaga: long (nullable = true)\n",
            " |-- bairro: string (nullable = true)\n",
            " |-- zona: string (nullable = true)\n",
            " |-- condominio: string (nullable = true)\n",
            " |-- iptu: string (nullable = true)\n",
            " |-- tipo: string (nullable = true)\n",
            " |-- valor: string (nullable = true)\n",
            "\n"
          ]
        }
      ]
    },
    {
      "cell_type": "code",
      "source": [
        "import pyspark.sql.types as types"
      ],
      "metadata": {
        "id": "TLvLQY0LPgCI"
      },
      "execution_count": 26,
      "outputs": []
    },
    {
      "cell_type": "code",
      "source": [
        "# convertendo area_total, area_util, condominio, iptu e valor\n",
        "double_cols = ['area_total', 'area_util', 'condominio', 'iptu', 'valor']\n",
        "\n",
        "for col in double_cols:\n",
        "  dados = dados\\\n",
        "          .withColumn(col, dados[col].cast(types.DoubleType()))\n",
        "\n",
        "dados.printSchema()"
      ],
      "metadata": {
        "colab": {
          "base_uri": "https://localhost:8080/"
        },
        "id": "EvW_g7GCO-El",
        "outputId": "fb7586ac-bac2-49f7-a3d5-e9ef18a35dd8"
      },
      "execution_count": 50,
      "outputs": [
        {
          "output_type": "stream",
          "name": "stdout",
          "text": [
            "root\n",
            " |-- id: string (nullable = true)\n",
            " |-- andar: long (nullable = true)\n",
            " |-- area_total: double (nullable = true)\n",
            " |-- area_util: double (nullable = true)\n",
            " |-- banheiros: long (nullable = true)\n",
            " |-- caracteristicas: array (nullable = true)\n",
            " |    |-- element: string (containsNull = true)\n",
            " |-- quartos: long (nullable = true)\n",
            " |-- suites: long (nullable = true)\n",
            " |-- tipo_anuncio: string (nullable = true)\n",
            " |-- tipo_unidade: string (nullable = true)\n",
            " |-- tipo_uso: string (nullable = true)\n",
            " |-- vaga: long (nullable = true)\n",
            " |-- bairro: string (nullable = true)\n",
            " |-- zona: string (nullable = true)\n",
            " |-- condominio: double (nullable = true)\n",
            " |-- iptu: double (nullable = true)\n",
            " |-- tipo: string (nullable = true)\n",
            " |-- valor: double (nullable = true)\n",
            "\n"
          ]
        }
      ]
    },
    {
      "cell_type": "markdown",
      "source": [
        "Outras variáveis, como `andar`, `banheiros`, `quartos`, `suites` e `vagas`, estão como `long` e podem ocupar muito espaço na memória sem necessidade. Portanto, vamos convertê-las para ShortType."
      ],
      "metadata": {
        "id": "ROLzy8IJOY3h"
      }
    },
    {
      "cell_type": "code",
      "source": [
        "# colunas para ShortType\n",
        "short_cols = ['andar', 'banheiros', 'quartos', 'suites', 'vaga']\n",
        "\n",
        "# verificando limites das variáveis\n",
        "dados\\\n",
        "  .select(short_cols)\\\n",
        "  .summary()\\\n",
        "  .show()"
      ],
      "metadata": {
        "colab": {
          "base_uri": "https://localhost:8080/"
        },
        "id": "czxgtBZBOYb0",
        "outputId": "58228eb5-7600-4f3a-f085-2f9c1b487525"
      },
      "execution_count": 51,
      "outputs": [
        {
          "output_type": "stream",
          "name": "stdout",
          "text": [
            "+-------+------------------+------------------+------------------+------------------+------------------+\n",
            "|summary|             andar|         banheiros|           quartos|            suites|              vaga|\n",
            "+-------+------------------+------------------+------------------+------------------+------------------+\n",
            "|  count|             66562|             66562|             66562|             61008|             63545|\n",
            "|   mean|2.3374598119046905| 2.454583696403353|2.6121811243652533|1.2091528979805928|1.4069084900464237|\n",
            "| stddev|  14.6963496227043|1.3582533594407473|0.9083944981999731|1.0567921717756774|1.3413027342394985|\n",
            "|    min|                 0|                 1|                 0|                 0|                 0|\n",
            "|    25%|                 0|                 2|                 2|                 1|                 1|\n",
            "|    50%|                 0|                 2|                 3|                 1|                 1|\n",
            "|    75%|                 3|                 3|                 3|                 1|                 2|\n",
            "|    max|              1234|                19|                16|                30|                99|\n",
            "+-------+------------------+------------------+------------------+------------------+------------------+\n",
            "\n"
          ]
        }
      ]
    },
    {
      "cell_type": "markdown",
      "source": [
        "Como os valores máximos não ultrapassam o limite de ShortType (entre -32868 a 32767), podemos realizar a conversão."
      ],
      "metadata": {
        "id": "atM8H9ZxO09V"
      }
    },
    {
      "cell_type": "code",
      "source": [
        "for col in short_cols:\n",
        "  dados = dados\\\n",
        "                .withColumn(col, dados[col].cast(types.ShortType()))"
      ],
      "metadata": {
        "id": "147nCP9KPD6J"
      },
      "execution_count": 52,
      "outputs": []
    },
    {
      "cell_type": "code",
      "source": [
        "dados.printSchema()"
      ],
      "metadata": {
        "colab": {
          "base_uri": "https://localhost:8080/"
        },
        "id": "jYSQ_cnXPJNy",
        "outputId": "20c61a34-8417-4b25-baf4-898791510b3d"
      },
      "execution_count": 53,
      "outputs": [
        {
          "output_type": "stream",
          "name": "stdout",
          "text": [
            "root\n",
            " |-- id: string (nullable = true)\n",
            " |-- andar: short (nullable = true)\n",
            " |-- area_total: double (nullable = true)\n",
            " |-- area_util: double (nullable = true)\n",
            " |-- banheiros: short (nullable = true)\n",
            " |-- caracteristicas: array (nullable = true)\n",
            " |    |-- element: string (containsNull = true)\n",
            " |-- quartos: short (nullable = true)\n",
            " |-- suites: short (nullable = true)\n",
            " |-- tipo_anuncio: string (nullable = true)\n",
            " |-- tipo_unidade: string (nullable = true)\n",
            " |-- tipo_uso: string (nullable = true)\n",
            " |-- vaga: short (nullable = true)\n",
            " |-- bairro: string (nullable = true)\n",
            " |-- zona: string (nullable = true)\n",
            " |-- condominio: double (nullable = true)\n",
            " |-- iptu: double (nullable = true)\n",
            " |-- tipo: string (nullable = true)\n",
            " |-- valor: double (nullable = true)\n",
            "\n"
          ]
        }
      ]
    },
    {
      "cell_type": "markdown",
      "source": [
        "## Tratamento de valores Nulos"
      ],
      "metadata": {
        "id": "S6zwHY4-PVHb"
      }
    },
    {
      "cell_type": "markdown",
      "source": [
        "Antes de realizar o tratamento dos valores nulos, vamos trata a coluna `caracteristicas` que contém algumas listas vazias."
      ],
      "metadata": {
        "id": "-8Xo-viVPaWT"
      }
    },
    {
      "cell_type": "code",
      "source": [
        "import pyspark.sql.functions as f"
      ],
      "metadata": {
        "id": "PRFEZLl3Rnto"
      },
      "execution_count": 33,
      "outputs": []
    },
    {
      "cell_type": "code",
      "source": [
        "# como intermediario, concatena a lista dentro de características, \n",
        "# verifica o tamanho do string\n",
        "# se for igual a 0, a lista está vazia, então retorna null,\n",
        "# senão, retorna o valor original\n",
        "dados = dados\\\n",
        "      .withColumn('caracteristicas', f.when(f.length(f.concat_ws(', ', 'caracteristicas')) == 0, None).otherwise(dados.caracteristicas))\n",
        "\n",
        "dados.select('caracteristicas').show(10)"
      ],
      "metadata": {
        "colab": {
          "base_uri": "https://localhost:8080/"
        },
        "id": "fi2mZoR7PYk5",
        "outputId": "083bb6e8-a75c-45ce-c487-df5c260be02d"
      },
      "execution_count": 62,
      "outputs": [
        {
          "output_type": "stream",
          "name": "stdout",
          "text": [
            "+--------------------+\n",
            "|     caracteristicas|\n",
            "+--------------------+\n",
            "|[Churrasqueira, A...|\n",
            "|                null|\n",
            "|                null|\n",
            "|                null|\n",
            "|                null|\n",
            "|[Condomínio fecha...|\n",
            "|[Churrasqueira, C...|\n",
            "|[Churrasqueira, P...|\n",
            "|[Churrasqueira, E...|\n",
            "|   [Salão de festas]|\n",
            "+--------------------+\n",
            "only showing top 10 rows\n",
            "\n"
          ]
        }
      ]
    },
    {
      "cell_type": "markdown",
      "source": [
        "Analisando a quantidade de observações válidas (66.562), vemos que as features `area_total`, `suites`, `vaga`, `condominio`, e `iptu` têm menos registros, indicando a presença de observações nulas."
      ],
      "metadata": {
        "id": "0ruPoCE6yTu2"
      }
    },
    {
      "cell_type": "code",
      "source": [
        "# seleciona variáveis numéricas\n",
        "var_numericas = [var for var, types in dados.dtypes if 'string' not in types]\n",
        "\n",
        "# identifica a quantidade de NA em cada coluna\n",
        "dados\\\n",
        "  .select(var_numericas)\\\n",
        "  .summary()\\\n",
        "  .show()"
      ],
      "metadata": {
        "colab": {
          "base_uri": "https://localhost:8080/"
        },
        "id": "QA55HGTwyBUe",
        "outputId": "67189dfb-d4f6-45ae-8d53-c4d05590198e"
      },
      "execution_count": 64,
      "outputs": [
        {
          "output_type": "stream",
          "name": "stdout",
          "text": [
            "+-------+------------------+-----------------+------------------+------------------+------------------+------------------+------------------+------------------+------------------+------------------+\n",
            "|summary|             andar|       area_total|         area_util|         banheiros|           quartos|            suites|              vaga|        condominio|              iptu|             valor|\n",
            "+-------+------------------+-----------------+------------------+------------------+------------------+------------------+------------------+------------------+------------------+------------------+\n",
            "|  count|             66562|            57368|             66562|             66562|             66562|             61008|             63545|             64191|             59363|             66562|\n",
            "|   mean|2.3374598119046905|938.1081264816622|116.73728253357771| 2.454583696403353|2.6121811243652533|1.2091528979805928|1.4069084900464237|4822.7975728684705|5447.7366036083085|1294433.2853129413|\n",
            "| stddev|  14.6963496227043|84173.43322353458| 89.09094364150394|1.3582533594407473|0.9083944981999731|1.0567921717756774|1.3413027342394985|106049.70098633446| 181192.7605568003| 1471723.315533184|\n",
            "|    min|                 0|              0.0|              10.0|                 1|                 0|                 0|                 0|               0.0|               0.0|           15000.0|\n",
            "|    25%|                 0|             68.0|              67.0|                 2|                 2|                 1|                 1|             463.0|              54.0|          455000.0|\n",
            "|    50%|                 0|             90.0|              90.0|                 2|                 3|                 1|                 1|             894.0|             360.0|          808600.0|\n",
            "|    75%|                 3|            140.0|             138.0|                 3|                 3|                 1|                 2|            1480.0|            1849.0|         1540000.0|\n",
            "|    max|              1234|      1.5022793E7|            3456.0|                19|                16|                30|                99|             1.1E7|             2.0E7|            1.39E7|\n",
            "+-------+------------------+-----------------+------------------+------------------+------------------+------------------+------------------+------------------+------------------+------------------+\n",
            "\n"
          ]
        }
      ]
    },
    {
      "cell_type": "markdown",
      "source": [
        "De modo genérico, vamos preencher os valores nulos pelas médias de cada variável em relação aos bairros."
      ],
      "metadata": {
        "id": "OyOQd9ukzyDe"
      }
    },
    {
      "cell_type": "code",
      "source": [
        "from pyspark.sql import Window\n",
        "\n",
        "# variáveis que precisam de preenchimento\n",
        "var_na = ['area_total', 'suites', 'vaga', 'condominio', 'iptu']\n",
        "\n",
        "# calcula as médias para cada feature (criar um dicionário)\n",
        "w = Window.partitionBy(dados.bairro)\n",
        "\n",
        "df = dados\n",
        "\n",
        "for col in var_na:\n",
        "  df = df\\\n",
        "  .withColumn(col, \n",
        "              f.when(f.isnan(col) | f.isnull(col), \n",
        "                          f.avg(col).over(w))\\\n",
        "              .otherwise(dados[col]))\n",
        "\n",
        "df.select(var_na + ['bairro']).show(10)"
      ],
      "metadata": {
        "colab": {
          "base_uri": "https://localhost:8080/"
        },
        "id": "bJ7xXlVazagv",
        "outputId": "48a3f825-2f1b-4f5d-a63c-a2d11b626a1a"
      },
      "execution_count": 78,
      "outputs": [
        {
          "output_type": "stream",
          "name": "stdout",
          "text": [
            "+-----------------+-------------------+----+----------+------------------+------+\n",
            "|       area_total|             suites|vaga|condominio|              iptu|bairro|\n",
            "+-----------------+-------------------+----+----------+------------------+------+\n",
            "|             77.0|                0.0| 1.0|     350.0|              76.0|Cocotá|\n",
            "|62.53846153846154|                0.0| 1.0|     310.0|19367.384615384617|Cocotá|\n",
            "|             46.0|                0.0| 1.0|     370.0|              25.0|Cocotá|\n",
            "|             55.0|0.07692307692307693| 1.0|     315.0|               0.0|Cocotá|\n",
            "|             56.0|                0.0| 1.0|     420.0|               0.0|Cocotá|\n",
            "|62.53846153846154|0.07692307692307693| 1.0|     210.0|             650.0|Cocotá|\n",
            "|            112.0|0.07692307692307693| 1.0|     400.0|               0.0|Cocotá|\n",
            "|             60.0|                0.0| 1.0|     300.0|               0.0|Cocotá|\n",
            "|             44.0|                0.0| 2.0|     300.0|               0.0|Cocotá|\n",
            "|             46.0|                0.0| 0.0|     315.0|               0.0|Cocotá|\n",
            "+-----------------+-------------------+----+----------+------------------+------+\n",
            "only showing top 10 rows\n",
            "\n"
          ]
        }
      ]
    },
    {
      "cell_type": "code",
      "source": [
        "# verifica a quantidade de NA em cada coluna tratada\n",
        "df\\\n",
        "  .select(var_na)\\\n",
        "  .summary()\\\n",
        "  .show()"
      ],
      "metadata": {
        "colab": {
          "base_uri": "https://localhost:8080/"
        },
        "id": "aJgmd2h26wOc",
        "outputId": "e1b7b3cf-0bbf-42d8-cb54-805f19e78cef"
      },
      "execution_count": 79,
      "outputs": [
        {
          "output_type": "stream",
          "name": "stdout",
          "text": [
            "+-------+-----------------+------------------+------------------+-----------------+------------------+\n",
            "|summary|       area_total|            suites|              vaga|       condominio|              iptu|\n",
            "+-------+-----------------+------------------+------------------+-----------------+------------------+\n",
            "|  count|            66562|             66558|             66559|            66560|             66556|\n",
            "|   mean|966.3603330599384|1.1766074024133777|1.3883332557344061|4795.622909567858| 5393.876817238255|\n",
            "| stddev|  78149.954199951|1.0254394312575272|1.3158729395552726|104147.6873313818|171136.61673109786|\n",
            "|    min|              0.0|               0.0|               0.0|              0.0|               0.0|\n",
            "|    25%|             70.0|               1.0|               1.0|            475.0|              80.0|\n",
            "|    50%|             97.0|               1.0|               1.0|            900.0|             482.0|\n",
            "|    75%|            154.0|               1.0|               2.0|           1500.0|            2201.0|\n",
            "|    max|      1.5022793E7|              30.0|              99.0|            1.1E7|             2.0E7|\n",
            "+-------+-----------------+------------------+------------------+-----------------+------------------+\n",
            "\n"
          ]
        }
      ]
    },
    {
      "cell_type": "markdown",
      "source": [
        "## Seleção de features"
      ],
      "metadata": {
        "id": "mu4C6Sua2SCl"
      }
    },
    {
      "cell_type": "markdown",
      "source": [
        "Devido a alguns filtros realizados nos dados brutos em relação as colunas: `tipo_uso`, `tipo_unidade` e `tipo_anuncio`, podemos desconsiderá-las para os modelos.\n",
        "\n",
        "Antes, vamos verificar se de fatos os valores para estas colunas são únicos."
      ],
      "metadata": {
        "id": "bDZaNtGj391Y"
      }
    },
    {
      "cell_type": "code",
      "source": [
        "# verificação da variabilidade\n",
        "df.createOrReplaceTempView('dfView')\n",
        "spark\\\n",
        "  .sql(\"\"\"\n",
        "        SELECT DISTINCT tipo_uso, tipo_unidade, tipo_anuncio, tipo\n",
        "        FROM dfView\n",
        "  \"\"\")\\\n",
        "  .show()"
      ],
      "metadata": {
        "colab": {
          "base_uri": "https://localhost:8080/"
        },
        "id": "GJCuj7co4Uof",
        "outputId": "cf82c781-b8cd-4d4a-b85b-ac444aaac085"
      },
      "execution_count": 83,
      "outputs": [
        {
          "output_type": "stream",
          "name": "stdout",
          "text": [
            "+-----------+------------+------------+-----+\n",
            "|   tipo_uso|tipo_unidade|tipo_anuncio| tipo|\n",
            "+-----------+------------+------------+-----+\n",
            "|Residencial| Apartamento|       Usado|Venda|\n",
            "+-----------+------------+------------+-----+\n",
            "\n"
          ]
        }
      ]
    },
    {
      "cell_type": "code",
      "source": [
        "df = df.drop('tipo_uso', 'tipo_unidade', 'tipo_anuncio', 'tipo')\n",
        "df.show(5)"
      ],
      "metadata": {
        "colab": {
          "base_uri": "https://localhost:8080/"
        },
        "id": "84X4VAwU7aGM",
        "outputId": "bcc6ecf7-cf75-47a1-aaaa-ab9ce366288f"
      },
      "execution_count": 84,
      "outputs": [
        {
          "output_type": "stream",
          "name": "stdout",
          "text": [
            "+--------------------+-----+-----------------+---------+---------+--------------------+-------+-------------------+----+------+----------+----------+------------------+--------+\n",
            "|                  id|andar|       area_total|area_util|banheiros|     caracteristicas|quartos|             suites|vaga|bairro|      zona|condominio|              iptu|   valor|\n",
            "+--------------------+-----+-----------------+---------+---------+--------------------+-------+-------------------+----+------+----------+----------+------------------+--------+\n",
            "|de2485bb-8f82-4e7...|    0|             77.0|     77.0|        2|[Elevador, Salão ...|      2|                0.0| 1.0|Cocotá|Zona Norte|     350.0|              76.0|345000.0|\n",
            "|7aea937e-6493-4c9...|    3|62.53846153846154|     45.0|        1|                null|      1|                0.0| 1.0|Cocotá|Zona Norte|     310.0|19367.384615384617|180000.0|\n",
            "|f8738a5e-064d-421...|    0|             46.0|     46.0|        1|[Churrasqueira, S...|      2|                0.0| 1.0|Cocotá|Zona Norte|     370.0|              25.0|230000.0|\n",
            "|62b14fe0-16a9-405...|    0|             55.0|     55.0|        1|[Portão eletrônic...|      2|0.07692307692307693| 1.0|Cocotá|Zona Norte|     315.0|               0.0|260000.0|\n",
            "|efc5774d-d074-4a4...|    0|             56.0|     56.0|        1|     [Churrasqueira]|      2|                0.0| 1.0|Cocotá|Zona Norte|     420.0|               0.0|310000.0|\n",
            "+--------------------+-----+-----------------+---------+---------+--------------------+-------+-------------------+----+------+----------+----------+------------------+--------+\n",
            "only showing top 5 rows\n",
            "\n"
          ]
        }
      ]
    },
    {
      "cell_type": "markdown",
      "source": [
        "Temos ainda as variáveis `area_total` e `area_util`. Considerando que houve a necessidade de tratamento da `area_total` pela falta de informação, e que há grande variabilidade entre os valores desta variável, também vamos descartá-la."
      ],
      "metadata": {
        "id": "mw_hLlVS8aYq"
      }
    },
    {
      "cell_type": "code",
      "source": [
        "df\\\n",
        "  .select(['area_total', 'area_util'])\\\n",
        "  .summary()\\\n",
        "  .show()"
      ],
      "metadata": {
        "colab": {
          "base_uri": "https://localhost:8080/"
        },
        "id": "Wc7OaqFC8mCf",
        "outputId": "395f30e3-1728-4f07-f575-e8517a8e0186"
      },
      "execution_count": 87,
      "outputs": [
        {
          "output_type": "stream",
          "name": "stdout",
          "text": [
            "+-------+-----------------+------------------+\n",
            "|summary|       area_total|         area_util|\n",
            "+-------+-----------------+------------------+\n",
            "|  count|            66562|             66562|\n",
            "|   mean|966.3603330599384|116.73728253357771|\n",
            "| stddev|  78149.954199951| 89.09094364150404|\n",
            "|    min|              0.0|              10.0|\n",
            "|    25%|             70.0|              67.0|\n",
            "|    50%|             97.0|              90.0|\n",
            "|    75%|            154.0|             138.0|\n",
            "|    max|      1.5022793E7|            3456.0|\n",
            "+-------+-----------------+------------------+\n",
            "\n"
          ]
        }
      ]
    },
    {
      "cell_type": "code",
      "source": [
        "df = df.drop('area_total')\n",
        "df.show(5)"
      ],
      "metadata": {
        "colab": {
          "base_uri": "https://localhost:8080/"
        },
        "id": "zSGlGFgS847v",
        "outputId": "963cb112-730a-4799-e4c0-879eb26d7265"
      },
      "execution_count": 88,
      "outputs": [
        {
          "output_type": "stream",
          "name": "stdout",
          "text": [
            "+--------------------+-----+---------+---------+--------------------+-------+-------------------+----+------+----------+----------+------------------+--------+\n",
            "|                  id|andar|area_util|banheiros|     caracteristicas|quartos|             suites|vaga|bairro|      zona|condominio|              iptu|   valor|\n",
            "+--------------------+-----+---------+---------+--------------------+-------+-------------------+----+------+----------+----------+------------------+--------+\n",
            "|de2485bb-8f82-4e7...|    0|     77.0|        2|[Elevador, Salão ...|      2|                0.0| 1.0|Cocotá|Zona Norte|     350.0|              76.0|345000.0|\n",
            "|7aea937e-6493-4c9...|    3|     45.0|        1|                null|      1|                0.0| 1.0|Cocotá|Zona Norte|     310.0|19367.384615384617|180000.0|\n",
            "|f8738a5e-064d-421...|    0|     46.0|        1|[Churrasqueira, S...|      2|                0.0| 1.0|Cocotá|Zona Norte|     370.0|              25.0|230000.0|\n",
            "|62b14fe0-16a9-405...|    0|     55.0|        1|[Portão eletrônic...|      2|0.07692307692307693| 1.0|Cocotá|Zona Norte|     315.0|               0.0|260000.0|\n",
            "|efc5774d-d074-4a4...|    0|     56.0|        1|     [Churrasqueira]|      2|                0.0| 1.0|Cocotá|Zona Norte|     420.0|               0.0|310000.0|\n",
            "+--------------------+-----+---------+---------+--------------------+-------+-------------------+----+------+----------+----------+------------------+--------+\n",
            "only showing top 5 rows\n",
            "\n"
          ]
        }
      ]
    },
    {
      "cell_type": "code",
      "source": [],
      "metadata": {
        "id": "QBDx6Wa089XT"
      },
      "execution_count": null,
      "outputs": []
    }
  ]
}