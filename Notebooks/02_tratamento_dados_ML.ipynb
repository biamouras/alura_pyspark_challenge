{
  "nbformat": 4,
  "nbformat_minor": 0,
  "metadata": {
    "colab": {
      "provenance": [],
      "toc_visible": true,
      "authorship_tag": "ABX9TyMRsKCD7ZHT8xoulqiZALhC",
      "include_colab_link": true
    },
    "kernelspec": {
      "name": "python3",
      "display_name": "Python 3"
    },
    "language_info": {
      "name": "python"
    }
  },
  "cells": [
    {
      "cell_type": "markdown",
      "metadata": {
        "id": "view-in-github",
        "colab_type": "text"
      },
      "source": [
        "<a href=\"https://colab.research.google.com/github/biamouras/alura_pyspark_challenge/blob/main/Notebooks/02_tratamento_dados_ML.ipynb\" target=\"_parent\"><img src=\"https://colab.research.google.com/assets/colab-badge.svg\" alt=\"Open In Colab\"/></a>"
      ]
    },
    {
      "cell_type": "markdown",
      "source": [
        "# Insightplaces - Tratamento dos dados para ML"
      ],
      "metadata": {
        "id": "Z6Y09-iCLAZE"
      }
    },
    {
      "cell_type": "markdown",
      "source": [
        "A Insightplaces, plataforma fantasia de imóveis da Alura, está com dificuldades para definir os valores do imóveis e gostaria de fazer de modo automatizado. Ainda, a empresa percebeu que o recomendador atual não está sendo efetivo para gerar novos cliques entre os usuários.\n",
        "\n",
        "Nosso projeto será trabalhar com os dados disponibilizados de imóveis no Rio de Janeiro para ajudar a empresa a lidar com estes dois problemas usando regressão para a definição dos valores e a análise de agrupamentos através de Machine Learning. "
      ],
      "metadata": {
        "id": "TkJB05-Ms-xa"
      }
    },
    {
      "cell_type": "markdown",
      "source": [
        "Este segundo projeto tem o foco de preparar os dados para os modelos de previsão a partir de dados já tratados."
      ],
      "metadata": {
        "id": "tT8cPwuVtJaj"
      }
    },
    {
      "cell_type": "markdown",
      "source": [
        "## Carregando os dados"
      ],
      "metadata": {
        "id": "H_zWQCcLvRbv"
      }
    },
    {
      "cell_type": "code",
      "source": [
        "from os import environ, listdir"
      ],
      "metadata": {
        "id": "DnpeK-x9vw7r"
      },
      "execution_count": 1,
      "outputs": []
    },
    {
      "cell_type": "code",
      "source": [
        "# instalar as dependências para utilizar Spark no Colab\n",
        "instala = True\n",
        "\n",
        "# verifica se já está instalado \n",
        "for f in listdir('/content'):\n",
        "  if f.find('spark') != -1:\n",
        "    instala = False\n",
        "    break \n",
        "\n",
        "if instala:\n",
        "  !apt-get update -qq\n",
        "  !apt-get install openjdk-8-jdk-headless -qq > /dev/null\n",
        "\n",
        "  !wget -q https://archive.apache.org/dist/spark/spark-3.2.1/spark-3.2.1-bin-hadoop3.2.tgz\n",
        "  !tar xf spark-3.2.1-bin-hadoop3.2.tgz\n",
        "  !pip install -q findspark\n",
        "\n",
        "environ[\"JAVA_HOME\"] = \"/usr/lib/jvm/java-8-openjdk-amd64\"\n",
        "environ[\"SPARK_HOME\"] = \"/content/spark-3.2.1-bin-hadoop3.2\"\n",
        "\n",
        "import findspark\n",
        "findspark.init()"
      ],
      "metadata": {
        "id": "yW_nIYFJvyM2"
      },
      "execution_count": 4,
      "outputs": []
    },
    {
      "cell_type": "code",
      "source": [
        "# iniciando o pyspark\n",
        "from pyspark.sql import SparkSession\n",
        "\n",
        "spark = SparkSession.builder \\\n",
        "    .master('local[*]') \\\n",
        "    .appName(\"Iniciando com Spark\") \\\n",
        "    .config('spark.ui.port', '4050')\\\n",
        "    .getOrCreate()"
      ],
      "metadata": {
        "id": "AVF5jUrvv0Of"
      },
      "execution_count": 5,
      "outputs": []
    },
    {
      "cell_type": "code",
      "source": [
        "# monta a conexão com o drive\n",
        "from google.colab import drive\n",
        "drive.mount('/content/drive')"
      ],
      "metadata": {
        "colab": {
          "base_uri": "https://localhost:8080/"
        },
        "id": "W4-UxOfiv3hO",
        "outputId": "46f9fa65-8632-4f24-83c9-61c56284af4d"
      },
      "execution_count": 6,
      "outputs": [
        {
          "output_type": "stream",
          "name": "stdout",
          "text": [
            "Mounted at /content/drive\n"
          ]
        }
      ]
    },
    {
      "cell_type": "code",
      "source": [
        "# biblioteca para abrir o arquivo compactado\n",
        "import zipfile"
      ],
      "metadata": {
        "id": "qQ9Tu_myv9TR"
      },
      "execution_count": 7,
      "outputs": []
    },
    {
      "cell_type": "code",
      "source": [
        "# caminho do arquivo \n",
        "name = 'semana-2'\n",
        "dir_dados = '/content/drive/MyDrive/Colab Notebooks/alura_challenge_insightplaces/dados/' + name + '/'\n",
        "\n",
        "# descompressão do arquivo\n",
        "zipfile.ZipFile(dir_dados + name + '.zip', 'r').extractall(dir_dados)\n",
        "# identificação do arquivo descomprimido\n",
        "files = listdir(dir_dados)\n",
        "files "
      ],
      "metadata": {
        "colab": {
          "base_uri": "https://localhost:8080/"
        },
        "id": "IlTgL722wA_R",
        "outputId": "86bf6135-4414-477f-affb-7889c1022477"
      },
      "execution_count": 39,
      "outputs": [
        {
          "output_type": "execute_result",
          "data": {
            "text/plain": [
              "['semana-2.zip', 'dataset_transformado_parquet']"
            ]
          },
          "metadata": {},
          "execution_count": 39
        }
      ]
    },
    {
      "cell_type": "code",
      "source": [
        "# o zip contém uma pasta\n",
        "dir_dados_originais = dir_dados + files[1]\n",
        "# verifica os arquivos dentro da pasta comprimida\n",
        "files = listdir(dir_dados_originais)\n",
        "files"
      ],
      "metadata": {
        "colab": {
          "base_uri": "https://localhost:8080/"
        },
        "id": "NUwk5PGNzImW",
        "outputId": "17f444ca-bbbb-462b-fc16-a23a2d6bf636"
      },
      "execution_count": 40,
      "outputs": [
        {
          "output_type": "execute_result",
          "data": {
            "text/plain": [
              "['._SUCCESS.crc',\n",
              " '_SUCCESS',\n",
              " 'part-00000-00341ba7-0a7c-4fef-a81e-1066725a64b1-c000.snappy.parquet',\n",
              " '.part-00000-00341ba7-0a7c-4fef-a81e-1066725a64b1-c000.snappy.parquet.crc']"
            ]
          },
          "metadata": {},
          "execution_count": 40
        }
      ]
    },
    {
      "cell_type": "code",
      "source": [
        "# leitura do parquet\n",
        "parquet_file = [f for f in files if f.endswith('.parquet')][0]\n",
        "dados = spark.read.parquet(dir_dados_originais + '/' + parquet_file)\n",
        "dados.printSchema()"
      ],
      "metadata": {
        "colab": {
          "base_uri": "https://localhost:8080/"
        },
        "id": "JFVf1XhLwLDB",
        "outputId": "b4e6c180-e3a4-4a41-ede4-8976370f9a9b"
      },
      "execution_count": 41,
      "outputs": [
        {
          "output_type": "stream",
          "name": "stdout",
          "text": [
            "root\n",
            " |-- id: string (nullable = true)\n",
            " |-- andar: long (nullable = true)\n",
            " |-- area_total: string (nullable = true)\n",
            " |-- area_util: string (nullable = true)\n",
            " |-- banheiros: long (nullable = true)\n",
            " |-- caracteristicas: array (nullable = true)\n",
            " |    |-- element: string (containsNull = true)\n",
            " |-- quartos: long (nullable = true)\n",
            " |-- suites: long (nullable = true)\n",
            " |-- tipo_anuncio: string (nullable = true)\n",
            " |-- tipo_unidade: string (nullable = true)\n",
            " |-- tipo_uso: string (nullable = true)\n",
            " |-- vaga: long (nullable = true)\n",
            " |-- bairro: string (nullable = true)\n",
            " |-- zona: string (nullable = true)\n",
            " |-- condominio: string (nullable = true)\n",
            " |-- iptu: string (nullable = true)\n",
            " |-- tipo: string (nullable = true)\n",
            " |-- valor: string (nullable = true)\n",
            "\n"
          ]
        }
      ]
    },
    {
      "cell_type": "markdown",
      "source": [
        "## Correção do tipo de  variável"
      ],
      "metadata": {
        "id": "n89qAOyHORNO"
      }
    },
    {
      "cell_type": "markdown",
      "source": [
        "Analisando os tipos de dados das colunas, vemos que features que deveriam ser numéricas estão consideradas como `string`. "
      ],
      "metadata": {
        "id": "R8wGXK9FOZ3m"
      }
    },
    {
      "cell_type": "code",
      "source": [
        "dados.printSchema()"
      ],
      "metadata": {
        "colab": {
          "base_uri": "https://localhost:8080/"
        },
        "id": "_4FUiJ8FO1HR",
        "outputId": "3a749498-9a2f-4cf0-a585-2d8bae7e1f70"
      },
      "execution_count": 42,
      "outputs": [
        {
          "output_type": "stream",
          "name": "stdout",
          "text": [
            "root\n",
            " |-- id: string (nullable = true)\n",
            " |-- andar: long (nullable = true)\n",
            " |-- area_total: string (nullable = true)\n",
            " |-- area_util: string (nullable = true)\n",
            " |-- banheiros: long (nullable = true)\n",
            " |-- caracteristicas: array (nullable = true)\n",
            " |    |-- element: string (containsNull = true)\n",
            " |-- quartos: long (nullable = true)\n",
            " |-- suites: long (nullable = true)\n",
            " |-- tipo_anuncio: string (nullable = true)\n",
            " |-- tipo_unidade: string (nullable = true)\n",
            " |-- tipo_uso: string (nullable = true)\n",
            " |-- vaga: long (nullable = true)\n",
            " |-- bairro: string (nullable = true)\n",
            " |-- zona: string (nullable = true)\n",
            " |-- condominio: string (nullable = true)\n",
            " |-- iptu: string (nullable = true)\n",
            " |-- tipo: string (nullable = true)\n",
            " |-- valor: string (nullable = true)\n",
            "\n"
          ]
        }
      ]
    },
    {
      "cell_type": "code",
      "source": [
        "import pyspark.sql.types as types"
      ],
      "metadata": {
        "id": "TLvLQY0LPgCI"
      },
      "execution_count": 12,
      "outputs": []
    },
    {
      "cell_type": "code",
      "source": [
        "# convertendo area_total, area_util, condominio, iptu e valor\n",
        "double_cols = ['area_total', 'area_util', 'condominio', 'iptu', 'valor']\n",
        "\n",
        "for col in double_cols:\n",
        "  dados = dados\\\n",
        "          .withColumn(col, dados[col].cast(types.DoubleType()))\n",
        "\n",
        "dados.printSchema()"
      ],
      "metadata": {
        "colab": {
          "base_uri": "https://localhost:8080/"
        },
        "id": "EvW_g7GCO-El",
        "outputId": "bb6230fb-f37d-4b6b-eb6a-0d51589cc6b6"
      },
      "execution_count": 43,
      "outputs": [
        {
          "output_type": "stream",
          "name": "stdout",
          "text": [
            "root\n",
            " |-- id: string (nullable = true)\n",
            " |-- andar: long (nullable = true)\n",
            " |-- area_total: double (nullable = true)\n",
            " |-- area_util: double (nullable = true)\n",
            " |-- banheiros: long (nullable = true)\n",
            " |-- caracteristicas: array (nullable = true)\n",
            " |    |-- element: string (containsNull = true)\n",
            " |-- quartos: long (nullable = true)\n",
            " |-- suites: long (nullable = true)\n",
            " |-- tipo_anuncio: string (nullable = true)\n",
            " |-- tipo_unidade: string (nullable = true)\n",
            " |-- tipo_uso: string (nullable = true)\n",
            " |-- vaga: long (nullable = true)\n",
            " |-- bairro: string (nullable = true)\n",
            " |-- zona: string (nullable = true)\n",
            " |-- condominio: double (nullable = true)\n",
            " |-- iptu: double (nullable = true)\n",
            " |-- tipo: string (nullable = true)\n",
            " |-- valor: double (nullable = true)\n",
            "\n"
          ]
        }
      ]
    },
    {
      "cell_type": "markdown",
      "source": [
        "Outras variáveis, como `andar`, `banheiros`, `quartos`, `suites` e `vagas`, estão como `long` e podem ocupar muito espaço na memória sem necessidade. Portanto, vamos convertê-las para ShortType."
      ],
      "metadata": {
        "id": "ROLzy8IJOY3h"
      }
    },
    {
      "cell_type": "code",
      "source": [
        "# colunas para ShortType\n",
        "short_cols = ['andar', 'banheiros', 'quartos', 'suites', 'vaga']\n",
        "\n",
        "# verificando limites das variáveis\n",
        "dados\\\n",
        "  .select(short_cols)\\\n",
        "  .summary()\\\n",
        "  .show()"
      ],
      "metadata": {
        "colab": {
          "base_uri": "https://localhost:8080/"
        },
        "id": "czxgtBZBOYb0",
        "outputId": "e1936407-814d-4201-925c-1104c4373950"
      },
      "execution_count": 44,
      "outputs": [
        {
          "output_type": "stream",
          "name": "stdout",
          "text": [
            "+-------+------------------+------------------+------------------+------------------+------------------+\n",
            "|summary|             andar|         banheiros|           quartos|            suites|              vaga|\n",
            "+-------+------------------+------------------+------------------+------------------+------------------+\n",
            "|  count|             66562|             66562|             66562|             61008|             63545|\n",
            "|   mean|2.3374598119046905| 2.454583696403353|2.6121811243652533|1.2091528979805928|1.4069084900464237|\n",
            "| stddev|  14.6963496227043|1.3582533594407473|0.9083944981999731|1.0567921717756774|1.3413027342394985|\n",
            "|    min|                 0|                 1|                 0|                 0|                 0|\n",
            "|    25%|                 0|                 2|                 2|                 1|                 1|\n",
            "|    50%|                 0|                 2|                 3|                 1|                 1|\n",
            "|    75%|                 3|                 3|                 3|                 1|                 2|\n",
            "|    max|              1234|                19|                16|                30|                99|\n",
            "+-------+------------------+------------------+------------------+------------------+------------------+\n",
            "\n"
          ]
        }
      ]
    },
    {
      "cell_type": "markdown",
      "source": [
        "Como os valores máximos não ultrapassam o limite de ShortType (entre -32868 a 32767), podemos realizar a conversão."
      ],
      "metadata": {
        "id": "atM8H9ZxO09V"
      }
    },
    {
      "cell_type": "code",
      "source": [
        "for col in short_cols:\n",
        "  dados = dados\\\n",
        "                .withColumn(col, dados[col].cast(types.ShortType()))"
      ],
      "metadata": {
        "id": "147nCP9KPD6J"
      },
      "execution_count": 45,
      "outputs": []
    },
    {
      "cell_type": "code",
      "source": [
        "dados.printSchema()"
      ],
      "metadata": {
        "colab": {
          "base_uri": "https://localhost:8080/"
        },
        "id": "jYSQ_cnXPJNy",
        "outputId": "81f41575-1924-47a9-a0f8-189073d96ffd"
      },
      "execution_count": 46,
      "outputs": [
        {
          "output_type": "stream",
          "name": "stdout",
          "text": [
            "root\n",
            " |-- id: string (nullable = true)\n",
            " |-- andar: short (nullable = true)\n",
            " |-- area_total: double (nullable = true)\n",
            " |-- area_util: double (nullable = true)\n",
            " |-- banheiros: short (nullable = true)\n",
            " |-- caracteristicas: array (nullable = true)\n",
            " |    |-- element: string (containsNull = true)\n",
            " |-- quartos: short (nullable = true)\n",
            " |-- suites: short (nullable = true)\n",
            " |-- tipo_anuncio: string (nullable = true)\n",
            " |-- tipo_unidade: string (nullable = true)\n",
            " |-- tipo_uso: string (nullable = true)\n",
            " |-- vaga: short (nullable = true)\n",
            " |-- bairro: string (nullable = true)\n",
            " |-- zona: string (nullable = true)\n",
            " |-- condominio: double (nullable = true)\n",
            " |-- iptu: double (nullable = true)\n",
            " |-- tipo: string (nullable = true)\n",
            " |-- valor: double (nullable = true)\n",
            "\n"
          ]
        }
      ]
    },
    {
      "cell_type": "markdown",
      "source": [
        "## Tratamento de valores Nulos"
      ],
      "metadata": {
        "id": "S6zwHY4-PVHb"
      }
    },
    {
      "cell_type": "code",
      "source": [
        "import pyspark.sql.functions as f"
      ],
      "metadata": {
        "id": "PRFEZLl3Rnto"
      },
      "execution_count": 17,
      "outputs": []
    },
    {
      "cell_type": "markdown",
      "source": [
        "Analisando a quantidade de observações válidas (66.562), vemos que as features `area_total`, `suites`, `vaga`, `condominio`, e `iptu` têm menos registros, indicando a presença de observações nulas."
      ],
      "metadata": {
        "id": "0ruPoCE6yTu2"
      }
    },
    {
      "cell_type": "code",
      "source": [
        "# seleciona variáveis numéricas\n",
        "var_numericas = [var for var, types in dados.dtypes if 'string' not in types]\n",
        "\n",
        "# identifica a quantidade de NA em cada coluna\n",
        "dados\\\n",
        "  .select(var_numericas)\\\n",
        "  .summary()\\\n",
        "  .show()"
      ],
      "metadata": {
        "colab": {
          "base_uri": "https://localhost:8080/"
        },
        "id": "QA55HGTwyBUe",
        "outputId": "d25b5026-cfd0-489a-880b-a909c885167e"
      },
      "execution_count": 47,
      "outputs": [
        {
          "output_type": "stream",
          "name": "stdout",
          "text": [
            "+-------+------------------+-----------------+------------------+------------------+------------------+------------------+------------------+------------------+------------------+------------------+\n",
            "|summary|             andar|       area_total|         area_util|         banheiros|           quartos|            suites|              vaga|        condominio|              iptu|             valor|\n",
            "+-------+------------------+-----------------+------------------+------------------+------------------+------------------+------------------+------------------+------------------+------------------+\n",
            "|  count|             66562|            57368|             66562|             66562|             66562|             61008|             63545|             64191|             59363|             66562|\n",
            "|   mean|2.3374598119046905|938.1081264816622|116.73728253357771| 2.454583696403353|2.6121811243652533|1.2091528979805928|1.4069084900464237|4822.7975728684705|5447.7366036083085|1294433.2853129413|\n",
            "| stddev|  14.6963496227043|84173.43322353458| 89.09094364150394|1.3582533594407473|0.9083944981999731|1.0567921717756774|1.3413027342394985|106049.70098633446| 181192.7605568003| 1471723.315533184|\n",
            "|    min|                 0|              0.0|              10.0|                 1|                 0|                 0|                 0|               0.0|               0.0|           15000.0|\n",
            "|    25%|                 0|             68.0|              67.0|                 2|                 2|                 1|                 1|             463.0|              54.0|          455000.0|\n",
            "|    50%|                 0|             90.0|              90.0|                 2|                 3|                 1|                 1|             894.0|             360.0|          808600.0|\n",
            "|    75%|                 3|            140.0|             138.0|                 3|                 3|                 1|                 2|            1480.0|            1849.0|         1540000.0|\n",
            "|    max|              1234|      1.5022793E7|            3456.0|                19|                16|                30|                99|             1.1E7|             2.0E7|            1.39E7|\n",
            "+-------+------------------+-----------------+------------------+------------------+------------------+------------------+------------------+------------------+------------------+------------------+\n",
            "\n"
          ]
        }
      ]
    },
    {
      "cell_type": "markdown",
      "source": [
        "De modo genérico, vamos preencher os valores nulos pelas médias de cada variável em relação aos bairros."
      ],
      "metadata": {
        "id": "OyOQd9ukzyDe"
      }
    },
    {
      "cell_type": "code",
      "source": [
        "from pyspark.sql import Window\n",
        "\n",
        "# variáveis que precisam de preenchimento\n",
        "var_na = ['area_total', 'suites', 'vaga', 'condominio', 'iptu']\n",
        "\n",
        "# calcula as médias para cada feature (criar um dicionário)\n",
        "w = Window.partitionBy(dados.bairro)\n",
        "\n",
        "df = dados\n",
        "\n",
        "for col in var_na:\n",
        "  df = df\\\n",
        "  .withColumn(col, \n",
        "              f.when(f.isnan(col) | f.isnull(col), \n",
        "                          f.avg(col).over(w))\\\n",
        "              .otherwise(dados[col]))\n",
        "\n",
        "df.select(var_na + ['bairro']).show(10)"
      ],
      "metadata": {
        "colab": {
          "base_uri": "https://localhost:8080/"
        },
        "id": "bJ7xXlVazagv",
        "outputId": "8b73e0f7-febf-422a-aaef-d123cfe1ef18"
      },
      "execution_count": 48,
      "outputs": [
        {
          "output_type": "stream",
          "name": "stdout",
          "text": [
            "+-----------------+-------------------+------------------+----------+-----+--------+\n",
            "|       area_total|             suites|              vaga|condominio| iptu|  bairro|\n",
            "+-----------------+-------------------+------------------+----------+-----+--------+\n",
            "|             88.0|0.11764705882352941|               1.0|     700.0|950.0|Abolição|\n",
            "|             44.0|                0.0|               1.0|     755.0|  0.0|Abolição|\n",
            "|             52.0|                0.0|               1.0|     420.0|158.7|Abolição|\n",
            "|             34.0|0.11764705882352941|0.8636363636363636|     243.0|158.7|Abolição|\n",
            "|             90.0|0.11764705882352941|0.8636363636363636|     760.0|  0.0|Abolição|\n",
            "|             43.0|                0.0|               1.0|     500.0| 16.0|Abolição|\n",
            "|             53.0|0.11764705882352941|               1.0|     473.0|  0.0|Abolição|\n",
            "|             60.0|                0.0|               1.0|     250.0|158.7|Abolição|\n",
            "|59.65384615384615|                0.0|               1.0|     560.0|158.7|Abolição|\n",
            "|             50.0|                0.0|               1.0|     545.0|158.7|Abolição|\n",
            "+-----------------+-------------------+------------------+----------+-----+--------+\n",
            "only showing top 10 rows\n",
            "\n"
          ]
        }
      ]
    },
    {
      "cell_type": "code",
      "source": [
        "# verifica a quantidade de NA em cada coluna tratada\n",
        "df\\\n",
        "  .select(var_na)\\\n",
        "  .summary()\\\n",
        "  .show()"
      ],
      "metadata": {
        "colab": {
          "base_uri": "https://localhost:8080/"
        },
        "id": "aJgmd2h26wOc",
        "outputId": "e408be38-1a5f-4ef4-a70c-70b5c34271f8"
      },
      "execution_count": 49,
      "outputs": [
        {
          "output_type": "stream",
          "name": "stdout",
          "text": [
            "+-------+-----------------+------------------+------------------+------------------+------------------+\n",
            "|summary|       area_total|            suites|              vaga|        condominio|              iptu|\n",
            "+-------+-----------------+------------------+------------------+------------------+------------------+\n",
            "|  count|            66562|             66558|             66559|             66560|             66556|\n",
            "|   mean|966.3603330598665|1.1766074024133613|1.3883332557343786| 4795.622909567849| 5393.876817238429|\n",
            "| stddev|78149.95419995103|1.0254394312575297|1.3158729395552726|104147.68733138188|171136.61673109749|\n",
            "|    min|              0.0|               0.0|               0.0|               0.0|               0.0|\n",
            "|    25%|             70.0|               1.0|               1.0|             476.0|              80.0|\n",
            "|    50%|             97.0|               1.0|               1.0|             900.0|             482.0|\n",
            "|    75%|            154.0|               1.0|               2.0|            1500.0|            2201.0|\n",
            "|    max|      1.5022793E7|              30.0|              99.0|             1.1E7|             2.0E7|\n",
            "+-------+-----------------+------------------+------------------+------------------+------------------+\n",
            "\n"
          ]
        }
      ]
    },
    {
      "cell_type": "markdown",
      "source": [
        "## Seleção de features"
      ],
      "metadata": {
        "id": "mu4C6Sua2SCl"
      }
    },
    {
      "cell_type": "markdown",
      "source": [
        "Devido a alguns filtros realizados nos dados brutos em relação as colunas: `tipo_uso`, `tipo_unidade` e `tipo_anuncio`, podemos desconsiderá-las para os modelos.\n",
        "\n",
        "Antes, vamos verificar se de fatos os valores para estas colunas são únicos."
      ],
      "metadata": {
        "id": "bDZaNtGj391Y"
      }
    },
    {
      "cell_type": "code",
      "source": [
        "# verificação da variabilidade\n",
        "df.createOrReplaceTempView('dfView')\n",
        "spark\\\n",
        "  .sql(\"\"\"\n",
        "        SELECT DISTINCT tipo_uso, tipo_unidade, tipo_anuncio, tipo\n",
        "        FROM dfView\n",
        "  \"\"\")\\\n",
        "  .show()"
      ],
      "metadata": {
        "colab": {
          "base_uri": "https://localhost:8080/"
        },
        "id": "GJCuj7co4Uof",
        "outputId": "0ead6fb4-263e-4cfa-a5c8-897a0ddbb374"
      },
      "execution_count": 50,
      "outputs": [
        {
          "output_type": "stream",
          "name": "stdout",
          "text": [
            "+-----------+------------+------------+-----+\n",
            "|   tipo_uso|tipo_unidade|tipo_anuncio| tipo|\n",
            "+-----------+------------+------------+-----+\n",
            "|Residencial| Apartamento|       Usado|Venda|\n",
            "+-----------+------------+------------+-----+\n",
            "\n"
          ]
        }
      ]
    },
    {
      "cell_type": "code",
      "source": [
        "df = df.drop('tipo_uso', 'tipo_unidade', 'tipo_anuncio', 'tipo')\n",
        "df.show(5)"
      ],
      "metadata": {
        "colab": {
          "base_uri": "https://localhost:8080/"
        },
        "id": "84X4VAwU7aGM",
        "outputId": "fe6f9e0d-42f4-4dca-e5ea-725059c9759c"
      },
      "execution_count": 51,
      "outputs": [
        {
          "output_type": "stream",
          "name": "stdout",
          "text": [
            "+--------------------+-----+----------+---------+---------+--------------------+-------+-------------------+------------------+--------+----------+----------+-----+--------+\n",
            "|                  id|andar|area_total|area_util|banheiros|     caracteristicas|quartos|             suites|              vaga|  bairro|      zona|condominio| iptu|   valor|\n",
            "+--------------------+-----+----------+---------+---------+--------------------+-------+-------------------+------------------+--------+----------+----------+-----+--------+\n",
            "|5c0573ed-a0b6-454...|    5|      88.0|     88.0|        1|[Churrasqueira, E...|      2|0.11764705882352941|               1.0|Abolição|Zona Norte|     700.0|950.0|309600.0|\n",
            "|ec4bb157-f2da-4fc...|    0|      44.0|     44.0|        1|[Churrasqueira, E...|      2|                0.0|               1.0|Abolição|Zona Norte|     755.0|  0.0|175000.0|\n",
            "|4cd3efdd-f835-4cc...|    0|      52.0|     52.0|        1|[Churrasqueira, P...|      2|                0.0|               1.0|Abolição|Zona Norte|     420.0|158.7|205000.0|\n",
            "|1c72e89a-bba5-4fc...|    0|      34.0|     34.0|        1|                  []|      1|0.11764705882352941|0.8636363636363636|Abolição|Zona Norte|     243.0|158.7|130000.0|\n",
            "|802ee45b-1337-40b...|    4|      90.0|     90.0|        2|[Animais permitidos]|      3|0.11764705882352941|0.8636363636363636|Abolição|Zona Norte|     760.0|  0.0|200000.0|\n",
            "+--------------------+-----+----------+---------+---------+--------------------+-------+-------------------+------------------+--------+----------+----------+-----+--------+\n",
            "only showing top 5 rows\n",
            "\n"
          ]
        }
      ]
    },
    {
      "cell_type": "markdown",
      "source": [
        "Temos ainda as variáveis `area_total` e `area_util`. Considerando que houve a necessidade de tratamento da `area_total` pela falta de informação, e que há grande variabilidade entre os valores desta variável, também vamos descartá-la."
      ],
      "metadata": {
        "id": "mw_hLlVS8aYq"
      }
    },
    {
      "cell_type": "code",
      "source": [
        "df\\\n",
        "  .select(['area_total', 'area_util'])\\\n",
        "  .summary()\\\n",
        "  .show()"
      ],
      "metadata": {
        "colab": {
          "base_uri": "https://localhost:8080/"
        },
        "id": "Wc7OaqFC8mCf",
        "outputId": "d5dda59b-e83f-4f2e-ebce-12fceeb7ad89"
      },
      "execution_count": 52,
      "outputs": [
        {
          "output_type": "stream",
          "name": "stdout",
          "text": [
            "+-------+-----------------+------------------+\n",
            "|summary|       area_total|         area_util|\n",
            "+-------+-----------------+------------------+\n",
            "|  count|            66562|             66562|\n",
            "|   mean|966.3603330598665|116.73728253357771|\n",
            "| stddev|78149.95419995103| 89.09094364150437|\n",
            "|    min|              0.0|              10.0|\n",
            "|    25%|             70.0|              67.0|\n",
            "|    50%|             97.0|              90.0|\n",
            "|    75%|            154.0|             138.0|\n",
            "|    max|      1.5022793E7|            3456.0|\n",
            "+-------+-----------------+------------------+\n",
            "\n"
          ]
        }
      ]
    },
    {
      "cell_type": "code",
      "source": [
        "df = df.drop('area_total')\n",
        "df.show(5)"
      ],
      "metadata": {
        "id": "zSGlGFgS847v",
        "outputId": "8e2cead9-d686-46f1-eb56-760435352aed",
        "colab": {
          "base_uri": "https://localhost:8080/"
        }
      },
      "execution_count": 53,
      "outputs": [
        {
          "output_type": "stream",
          "name": "stdout",
          "text": [
            "+--------------------+-----+---------+---------+--------------------+-------+-------------------+------------------+--------+----------+----------+-----+--------+\n",
            "|                  id|andar|area_util|banheiros|     caracteristicas|quartos|             suites|              vaga|  bairro|      zona|condominio| iptu|   valor|\n",
            "+--------------------+-----+---------+---------+--------------------+-------+-------------------+------------------+--------+----------+----------+-----+--------+\n",
            "|5c0573ed-a0b6-454...|    5|     88.0|        1|[Churrasqueira, E...|      2|0.11764705882352941|               1.0|Abolição|Zona Norte|     700.0|950.0|309600.0|\n",
            "|ec4bb157-f2da-4fc...|    0|     44.0|        1|[Churrasqueira, E...|      2|                0.0|               1.0|Abolição|Zona Norte|     755.0|  0.0|175000.0|\n",
            "|4cd3efdd-f835-4cc...|    0|     52.0|        1|[Churrasqueira, P...|      2|                0.0|               1.0|Abolição|Zona Norte|     420.0|158.7|205000.0|\n",
            "|1c72e89a-bba5-4fc...|    0|     34.0|        1|                  []|      1|0.11764705882352941|0.8636363636363636|Abolição|Zona Norte|     243.0|158.7|130000.0|\n",
            "|802ee45b-1337-40b...|    4|     90.0|        2|[Animais permitidos]|      3|0.11764705882352941|0.8636363636363636|Abolição|Zona Norte|     760.0|  0.0|200000.0|\n",
            "+--------------------+-----+---------+---------+--------------------+-------+-------------------+------------------+--------+----------+----------+-----+--------+\n",
            "only showing top 5 rows\n",
            "\n"
          ]
        }
      ]
    },
    {
      "cell_type": "markdown",
      "source": [
        "## Transformação das categóricas em `dummies`"
      ],
      "metadata": {
        "id": "QBDx6Wa089XT"
      }
    },
    {
      "cell_type": "markdown",
      "source": [
        "Temos três featueres que podem ser convertidas para dummies: `caracteristicas`, `bairro` e `zona`. Até o momento, a função `ps.get_dummies` não converte listas, então terei que trabalhar com a `caracteristicas` em separado."
      ],
      "metadata": {
        "id": "7PP5i8AHkLr4"
      }
    },
    {
      "cell_type": "code",
      "source": [
        "import pyspark.pandas as ps"
      ],
      "metadata": {
        "colab": {
          "base_uri": "https://localhost:8080/"
        },
        "id": "KUa903YoU4Pv",
        "outputId": "748e9459-9a7c-4fa0-8169-fd0d4d1b2bfc"
      },
      "execution_count": 26,
      "outputs": [
        {
          "output_type": "stream",
          "name": "stderr",
          "text": [
            "WARNING:root:'PYARROW_IGNORE_TIMEZONE' environment variable was not set. It is required to set this environment variable to '1' in both driver and executor sides if you use pyarrow>=2.0.0. pandas-on-Spark will set it for you but it does not work if there is a Spark context already launched.\n"
          ]
        }
      ]
    },
    {
      "cell_type": "code",
      "source": [
        "# seleção das variáveis categóricas\n",
        "var_cat = ['bairro', 'zona']\n",
        "\n",
        "df_cat = df.select(var_cat + ['id'])\n",
        "df_cat = ps.DataFrame(df_cat) # é necessário converter para o DF de ps\n",
        "\n",
        "df_dummies = ps.get_dummies(\n",
        "    df_cat,\n",
        "    columns = var_cat,\n",
        "    prefix = ['bair', 'zona'],\n",
        "    dummy_na = False,\n",
        "    drop_first = True\n",
        ")\n",
        "\n",
        "df_dummies.head()"
      ],
      "metadata": {
        "colab": {
          "base_uri": "https://localhost:8080/",
          "height": 418
        },
        "id": "gv95093bGaID",
        "outputId": "3470e24b-326c-43c2-c840-ad2cdff701fa"
      },
      "execution_count": 54,
      "outputs": [
        {
          "output_type": "stream",
          "name": "stderr",
          "text": [
            "/content/spark-3.2.1-bin-hadoop3.2/python/pyspark/sql/pandas/conversion.py:202: PerformanceWarning: DataFrame is highly fragmented.  This is usually the result of calling `frame.insert` many times, which has poor performance.  Consider joining all columns at once using pd.concat(axis=1) instead.  To get a de-fragmented frame, use `newframe = frame.copy()`\n",
            "  df[column_name] = series\n"
          ]
        },
        {
          "output_type": "execute_result",
          "data": {
            "text/plain": [
              "                                     id  bair_Alto da Boa Vista  bair_Anchieta  bair_Andaraí  bair_Anil  bair_Bancários  bair_Bangu  bair_Barra da Tijuca  bair_Barra de Guaratiba  bair_Barros Filho  bair_Benfica  bair_Bento Ribeiro  bair_Boa Esperança  bair_Bonsucesso  bair_Botafogo  bair_Braz de Pina  bair_Cachambi  bair_Cacuia  bair_Caju  bair_Camorim  bair_Campinho  bair_Campo Grande  bair_Campo dos Afonsos  bair_Cascadura  bair_Catete  bair_Catumbi  bair_Cavalcanti  bair_Centro  bair_Cidade Nova  bair_Cidade de Deus  bair_Cocotá  bair_Coelho Neto  bair_Colégio  bair_Copacabana  bair_Cordovil  bair_Cosme Velho  bair_Cosmos  bair_Curicica  bair_Del Castilho  bair_Deodoro  bair_Encantado  bair_Engenheiro Leal  bair_Engenho Novo  bair_Engenho da Rainha  bair_Engenho de Dentro  bair_Engenho do Porto  bair_Estácio  bair_Flamengo  bair_Freguesia (Ilha do Governador)  bair_Freguesia (Jacarepaguá)  bair_Galeão  bair_Gamboa  bair_Gardênia Azul  bair_Glória  bair_Grajaú  bair_Grande Rio  bair_Guadalupe  bair_Guaratiba  bair_Gávea  bair_Higienópolis  bair_Honório Gurgel  bair_Humaitá  bair_Inhaúma  bair_Inhoaíba  bair_Ipanema  bair_Irajá  bair_Itanhangá  bair_Jacarepaguá  bair_Jacaré  bair_Jardim América  bair_Jardim Botânico  bair_Jardim Carioca  bair_Jardim Guanabara  bair_Jardim Sulacap  bair_Joá  bair_Lagoa  bair_Laranjeiras  bair_Leblon  bair_Leme  bair_Lins de Vasconcelos  bair_Madureira  bair_Magalhães Bastos  bair_Mangueira  bair_Manguinhos  bair_Maracanã  bair_Marechal Hermes  bair_Maria da Graça  bair_Moneró  bair_Méier  bair_Olaria  bair_Oswaldo Cruz  bair_Paciência  bair_Padre Miguel  bair_Paquetá  bair_Parada de Lucas  bair_Parque Anchieta  bair_Parque Colúmbia  bair_Parque da Matriz  bair_Pavuna  bair_Pechincha  bair_Pedra de Guaratiba  bair_Penha  bair_Penha Circular  bair_Piedade  bair_Pilares  bair_Pitangueiras  bair_Portuguesa  bair_Praia da Bandeira  bair_Praça Seca  bair_Praça da Bandeira  bair_Quintino Bocaiúva  bair_Ramos  bair_Realengo  bair_Recreio dos Bandeirantes  bair_Riachuelo  bair_Ribeira  bair_Ricardo de Albuquerque  bair_Rio Comprido  bair_Rocha  bair_Rocha Miranda  bair_Sampaio  bair_Santa Cruz  bair_Santa Teresa  bair_Santo Cristo  bair_Santíssimo  bair_Saúde  bair_Senador Camará  bair_Senador Vasconcelos  bair_Sepetiba  bair_São Conrado  bair_São Cristóvão  bair_São Francisco Xavier  bair_Tanque  bair_Taquara  bair_Tauá  bair_Tijuca  bair_Todos os Santos  bair_Tomás Coelho  bair_Turiaçu  bair_Urca  bair_Vargem Grande  bair_Vargem Pequena  bair_Vasco da Gama  bair_Vaz Lobo  bair_Vicente de Carvalho  bair_Vidigal  bair_Vigário Geral  bair_Vila Isabel  bair_Vila Kosmos  bair_Vila Valqueire  bair_Vila da Penha  bair_Vista Alegre  bair_Zumbi  bair_Água Santa  zona_Zona Central  zona_Zona Norte  zona_Zona Oeste  zona_Zona Sul\n",
              "0  03a386b6-7ab8-4eff-891d-f8a16efc1989                       0              0             0          0               0           0                     0                        0                  0             0                   0                   0                0              0                  0              0            0          0             0              0                  0                       0               0            0             0                0            0                 0                    0            0                 0             0                0              0                 0            0              0                  0             0               0                     0                  0                       0                       0                      0             0              0                                    0                             0            0            0                   0            0            0                0               0               0           0                  0                    0             0             0              0             0           0               0                 0            0                    0                     0                    0                      0                    0         0           0                 0            0          0                         0               0                      0               0                0              0                     0                    0            0           0            0                  0               0                  0             0                     0                     0                     0                      0            0               0                        0           0                    0             0             0                  0                0                       0                0                       0                       0           0              1                              0               0             0                            0                  0           0                   0             0                0                  0                  0                0           0                    0                         0              0                 0                   0                          0            0             0          0            0                     0                  0             0          0                   0                    0                   0              0                         0             0                   0                 0                 0                    0                   0                  0           0                0                  0                0                1              0\n",
              "1  1fe78d41-b8e0-4d21-a1a8-72cb7863f441                       0              0             0          0               0           0                     0                        0                  0             0                   0                   0                0              0                  0              0            0          0             0              0                  0                       0               0            0             0                0            0                 0                    0            0                 0             0                0              0                 0            0              0                  0             0               0                     0                  0                       0                       0                      0             0              0                                    0                             0            0            0                   0            0            0                0               0               0           0                  0                    0             0             0              0             0           1               0                 0            0                    0                     0                    0                      0                    0         0           0                 0            0          0                         0               0                      0               0                0              0                     0                    0            0           0            0                  0               0                  0             0                     0                     0                     0                      0            0               0                        0           0                    0             0             0                  0                0                       0                0                       0                       0           0              0                              0               0             0                            0                  0           0                   0             0                0                  0                  0                0           0                    0                         0              0                 0                   0                          0            0             0          0            0                     0                  0             0          0                   0                    0                   0              0                         0             0                   0                 0                 0                    0                   0                  0           0                0                  0                1                0              0\n",
              "2  1fa1c1e5-e98c-433f-9675-1b43d7d6da01                       0              0             0          0               0           0                     0                        0                  0             0                   0                   0                0              0                  0              0            0          0             0              0                  0                       0               0            0             0                0            0                 0                    0            0                 0             0                0              0                 0            1              0                  0             0               0                     0                  0                       0                       0                      0             0              0                                    0                             0            0            0                   0            0            0                0               0               0           0                  0                    0             0             0              0             0           0               0                 0            0                    0                     0                    0                      0                    0         0           0                 0            0          0                         0               0                      0               0                0              0                     0                    0            0           0            0                  0               0                  0             0                     0                     0                     0                      0            0               0                        0           0                    0             0             0                  0                0                       0                0                       0                       0           0              0                              0               0             0                            0                  0           0                   0             0                0                  0                  0                0           0                    0                         0              0                 0                   0                          0            0             0          0            0                     0                  0             0          0                   0                    0                   0              0                         0             0                   0                 0                 0                    0                   0                  0           0                0                  0                0                1              0\n",
              "3  a6ab01ae-3d40-40e7-bb6a-f2334e0abbe0                       0              0             0          0               0           0                     0                        0                  0             0                   0                   0                0              0                  0              0            0          0             0              0                  0                       0               0            0             0                0            0                 0                    0            0                 0             0                0              0                 0            0              0                  0             0               0                     0                  0                       0                       0                      0             0              0                                    0                             0            0            0                   0            0            0                0               0               0           0                  0                    0             0             0              0             0           0               0                 0            0                    0                     0                    0                      0                    0         0           0                 0            0          0                         0               0                      0               0                0              0                     0                    0            0           0            0                  0               0                  0             0                     0                     0                     0                      0            0               0                        0           0                    0             0             0                  0                0                       0                0                       0                       0           0              0                              0               0             0                            0                  0           0                   0             0                0                  0                  0                0           0                    0                         0              0                 0                   0                          0            0             0          0            0                     0                  1             0          0                   0                    0                   0              0                         0             0                   0                 0                 0                    0                   0                  0           0                0                  0                1                0              0\n",
              "4  1d8ff7a2-16bd-4e3f-a92e-1b85f923ebb0                       0              0             0          0               0           0                     0                        0                  0             0                   0                   0                0              0                  0              0            0          0             0              0                  0                       0               0            0             0                0            1                 0                    0            0                 0             0                0              0                 0            0              0                  0             0               0                     0                  0                       0                       0                      0             0              0                                    0                             0            0            0                   0            0            0                0               0               0           0                  0                    0             0             0              0             0           0               0                 0            0                    0                     0                    0                      0                    0         0           0                 0            0          0                         0               0                      0               0                0              0                     0                    0            0           0            0                  0               0                  0             0                     0                     0                     0                      0            0               0                        0           0                    0             0             0                  0                0                       0                0                       0                       0           0              0                              0               0             0                            0                  0           0                   0             0                0                  0                  0                0           0                    0                         0              0                 0                   0                          0            0             0          0            0                     0                  0             0          0                   0                    0                   0              0                         0             0                   0                 0                 0                    0                   0                  0           0                0                  1                0                0              0"
            ],
            "text/html": [
              "<div>\n",
              "<style scoped>\n",
              "    .dataframe tbody tr th:only-of-type {\n",
              "        vertical-align: middle;\n",
              "    }\n",
              "\n",
              "    .dataframe tbody tr th {\n",
              "        vertical-align: top;\n",
              "    }\n",
              "\n",
              "    .dataframe thead th {\n",
              "        text-align: right;\n",
              "    }\n",
              "</style>\n",
              "<table border=\"1\" class=\"dataframe\">\n",
              "  <thead>\n",
              "    <tr style=\"text-align: right;\">\n",
              "      <th></th>\n",
              "      <th>id</th>\n",
              "      <th>bair_Alto da Boa Vista</th>\n",
              "      <th>bair_Anchieta</th>\n",
              "      <th>bair_Andaraí</th>\n",
              "      <th>bair_Anil</th>\n",
              "      <th>bair_Bancários</th>\n",
              "      <th>bair_Bangu</th>\n",
              "      <th>bair_Barra da Tijuca</th>\n",
              "      <th>bair_Barra de Guaratiba</th>\n",
              "      <th>bair_Barros Filho</th>\n",
              "      <th>bair_Benfica</th>\n",
              "      <th>bair_Bento Ribeiro</th>\n",
              "      <th>bair_Boa Esperança</th>\n",
              "      <th>bair_Bonsucesso</th>\n",
              "      <th>bair_Botafogo</th>\n",
              "      <th>bair_Braz de Pina</th>\n",
              "      <th>bair_Cachambi</th>\n",
              "      <th>bair_Cacuia</th>\n",
              "      <th>bair_Caju</th>\n",
              "      <th>bair_Camorim</th>\n",
              "      <th>bair_Campinho</th>\n",
              "      <th>bair_Campo Grande</th>\n",
              "      <th>bair_Campo dos Afonsos</th>\n",
              "      <th>bair_Cascadura</th>\n",
              "      <th>bair_Catete</th>\n",
              "      <th>bair_Catumbi</th>\n",
              "      <th>bair_Cavalcanti</th>\n",
              "      <th>bair_Centro</th>\n",
              "      <th>bair_Cidade Nova</th>\n",
              "      <th>bair_Cidade de Deus</th>\n",
              "      <th>bair_Cocotá</th>\n",
              "      <th>bair_Coelho Neto</th>\n",
              "      <th>bair_Colégio</th>\n",
              "      <th>bair_Copacabana</th>\n",
              "      <th>bair_Cordovil</th>\n",
              "      <th>bair_Cosme Velho</th>\n",
              "      <th>bair_Cosmos</th>\n",
              "      <th>bair_Curicica</th>\n",
              "      <th>bair_Del Castilho</th>\n",
              "      <th>bair_Deodoro</th>\n",
              "      <th>bair_Encantado</th>\n",
              "      <th>bair_Engenheiro Leal</th>\n",
              "      <th>bair_Engenho Novo</th>\n",
              "      <th>bair_Engenho da Rainha</th>\n",
              "      <th>bair_Engenho de Dentro</th>\n",
              "      <th>bair_Engenho do Porto</th>\n",
              "      <th>bair_Estácio</th>\n",
              "      <th>bair_Flamengo</th>\n",
              "      <th>bair_Freguesia (Ilha do Governador)</th>\n",
              "      <th>bair_Freguesia (Jacarepaguá)</th>\n",
              "      <th>bair_Galeão</th>\n",
              "      <th>bair_Gamboa</th>\n",
              "      <th>bair_Gardênia Azul</th>\n",
              "      <th>bair_Glória</th>\n",
              "      <th>bair_Grajaú</th>\n",
              "      <th>bair_Grande Rio</th>\n",
              "      <th>bair_Guadalupe</th>\n",
              "      <th>bair_Guaratiba</th>\n",
              "      <th>bair_Gávea</th>\n",
              "      <th>bair_Higienópolis</th>\n",
              "      <th>bair_Honório Gurgel</th>\n",
              "      <th>bair_Humaitá</th>\n",
              "      <th>bair_Inhaúma</th>\n",
              "      <th>bair_Inhoaíba</th>\n",
              "      <th>bair_Ipanema</th>\n",
              "      <th>bair_Irajá</th>\n",
              "      <th>bair_Itanhangá</th>\n",
              "      <th>bair_Jacarepaguá</th>\n",
              "      <th>bair_Jacaré</th>\n",
              "      <th>bair_Jardim América</th>\n",
              "      <th>bair_Jardim Botânico</th>\n",
              "      <th>bair_Jardim Carioca</th>\n",
              "      <th>bair_Jardim Guanabara</th>\n",
              "      <th>bair_Jardim Sulacap</th>\n",
              "      <th>bair_Joá</th>\n",
              "      <th>bair_Lagoa</th>\n",
              "      <th>bair_Laranjeiras</th>\n",
              "      <th>bair_Leblon</th>\n",
              "      <th>bair_Leme</th>\n",
              "      <th>bair_Lins de Vasconcelos</th>\n",
              "      <th>bair_Madureira</th>\n",
              "      <th>bair_Magalhães Bastos</th>\n",
              "      <th>bair_Mangueira</th>\n",
              "      <th>bair_Manguinhos</th>\n",
              "      <th>bair_Maracanã</th>\n",
              "      <th>bair_Marechal Hermes</th>\n",
              "      <th>bair_Maria da Graça</th>\n",
              "      <th>bair_Moneró</th>\n",
              "      <th>bair_Méier</th>\n",
              "      <th>bair_Olaria</th>\n",
              "      <th>bair_Oswaldo Cruz</th>\n",
              "      <th>bair_Paciência</th>\n",
              "      <th>bair_Padre Miguel</th>\n",
              "      <th>bair_Paquetá</th>\n",
              "      <th>bair_Parada de Lucas</th>\n",
              "      <th>bair_Parque Anchieta</th>\n",
              "      <th>bair_Parque Colúmbia</th>\n",
              "      <th>bair_Parque da Matriz</th>\n",
              "      <th>bair_Pavuna</th>\n",
              "      <th>bair_Pechincha</th>\n",
              "      <th>bair_Pedra de Guaratiba</th>\n",
              "      <th>bair_Penha</th>\n",
              "      <th>bair_Penha Circular</th>\n",
              "      <th>bair_Piedade</th>\n",
              "      <th>bair_Pilares</th>\n",
              "      <th>bair_Pitangueiras</th>\n",
              "      <th>bair_Portuguesa</th>\n",
              "      <th>bair_Praia da Bandeira</th>\n",
              "      <th>bair_Praça Seca</th>\n",
              "      <th>bair_Praça da Bandeira</th>\n",
              "      <th>bair_Quintino Bocaiúva</th>\n",
              "      <th>bair_Ramos</th>\n",
              "      <th>bair_Realengo</th>\n",
              "      <th>bair_Recreio dos Bandeirantes</th>\n",
              "      <th>bair_Riachuelo</th>\n",
              "      <th>bair_Ribeira</th>\n",
              "      <th>bair_Ricardo de Albuquerque</th>\n",
              "      <th>bair_Rio Comprido</th>\n",
              "      <th>bair_Rocha</th>\n",
              "      <th>bair_Rocha Miranda</th>\n",
              "      <th>bair_Sampaio</th>\n",
              "      <th>bair_Santa Cruz</th>\n",
              "      <th>bair_Santa Teresa</th>\n",
              "      <th>bair_Santo Cristo</th>\n",
              "      <th>bair_Santíssimo</th>\n",
              "      <th>bair_Saúde</th>\n",
              "      <th>bair_Senador Camará</th>\n",
              "      <th>bair_Senador Vasconcelos</th>\n",
              "      <th>bair_Sepetiba</th>\n",
              "      <th>bair_São Conrado</th>\n",
              "      <th>bair_São Cristóvão</th>\n",
              "      <th>bair_São Francisco Xavier</th>\n",
              "      <th>bair_Tanque</th>\n",
              "      <th>bair_Taquara</th>\n",
              "      <th>bair_Tauá</th>\n",
              "      <th>bair_Tijuca</th>\n",
              "      <th>bair_Todos os Santos</th>\n",
              "      <th>bair_Tomás Coelho</th>\n",
              "      <th>bair_Turiaçu</th>\n",
              "      <th>bair_Urca</th>\n",
              "      <th>bair_Vargem Grande</th>\n",
              "      <th>bair_Vargem Pequena</th>\n",
              "      <th>bair_Vasco da Gama</th>\n",
              "      <th>bair_Vaz Lobo</th>\n",
              "      <th>bair_Vicente de Carvalho</th>\n",
              "      <th>bair_Vidigal</th>\n",
              "      <th>bair_Vigário Geral</th>\n",
              "      <th>bair_Vila Isabel</th>\n",
              "      <th>bair_Vila Kosmos</th>\n",
              "      <th>bair_Vila Valqueire</th>\n",
              "      <th>bair_Vila da Penha</th>\n",
              "      <th>bair_Vista Alegre</th>\n",
              "      <th>bair_Zumbi</th>\n",
              "      <th>bair_Água Santa</th>\n",
              "      <th>zona_Zona Central</th>\n",
              "      <th>zona_Zona Norte</th>\n",
              "      <th>zona_Zona Oeste</th>\n",
              "      <th>zona_Zona Sul</th>\n",
              "    </tr>\n",
              "  </thead>\n",
              "  <tbody>\n",
              "    <tr>\n",
              "      <th>0</th>\n",
              "      <td>03a386b6-7ab8-4eff-891d-f8a16efc1989</td>\n",
              "      <td>0</td>\n",
              "      <td>0</td>\n",
              "      <td>0</td>\n",
              "      <td>0</td>\n",
              "      <td>0</td>\n",
              "      <td>0</td>\n",
              "      <td>0</td>\n",
              "      <td>0</td>\n",
              "      <td>0</td>\n",
              "      <td>0</td>\n",
              "      <td>0</td>\n",
              "      <td>0</td>\n",
              "      <td>0</td>\n",
              "      <td>0</td>\n",
              "      <td>0</td>\n",
              "      <td>0</td>\n",
              "      <td>0</td>\n",
              "      <td>0</td>\n",
              "      <td>0</td>\n",
              "      <td>0</td>\n",
              "      <td>0</td>\n",
              "      <td>0</td>\n",
              "      <td>0</td>\n",
              "      <td>0</td>\n",
              "      <td>0</td>\n",
              "      <td>0</td>\n",
              "      <td>0</td>\n",
              "      <td>0</td>\n",
              "      <td>0</td>\n",
              "      <td>0</td>\n",
              "      <td>0</td>\n",
              "      <td>0</td>\n",
              "      <td>0</td>\n",
              "      <td>0</td>\n",
              "      <td>0</td>\n",
              "      <td>0</td>\n",
              "      <td>0</td>\n",
              "      <td>0</td>\n",
              "      <td>0</td>\n",
              "      <td>0</td>\n",
              "      <td>0</td>\n",
              "      <td>0</td>\n",
              "      <td>0</td>\n",
              "      <td>0</td>\n",
              "      <td>0</td>\n",
              "      <td>0</td>\n",
              "      <td>0</td>\n",
              "      <td>0</td>\n",
              "      <td>0</td>\n",
              "      <td>0</td>\n",
              "      <td>0</td>\n",
              "      <td>0</td>\n",
              "      <td>0</td>\n",
              "      <td>0</td>\n",
              "      <td>0</td>\n",
              "      <td>0</td>\n",
              "      <td>0</td>\n",
              "      <td>0</td>\n",
              "      <td>0</td>\n",
              "      <td>0</td>\n",
              "      <td>0</td>\n",
              "      <td>0</td>\n",
              "      <td>0</td>\n",
              "      <td>0</td>\n",
              "      <td>0</td>\n",
              "      <td>0</td>\n",
              "      <td>0</td>\n",
              "      <td>0</td>\n",
              "      <td>0</td>\n",
              "      <td>0</td>\n",
              "      <td>0</td>\n",
              "      <td>0</td>\n",
              "      <td>0</td>\n",
              "      <td>0</td>\n",
              "      <td>0</td>\n",
              "      <td>0</td>\n",
              "      <td>0</td>\n",
              "      <td>0</td>\n",
              "      <td>0</td>\n",
              "      <td>0</td>\n",
              "      <td>0</td>\n",
              "      <td>0</td>\n",
              "      <td>0</td>\n",
              "      <td>0</td>\n",
              "      <td>0</td>\n",
              "      <td>0</td>\n",
              "      <td>0</td>\n",
              "      <td>0</td>\n",
              "      <td>0</td>\n",
              "      <td>0</td>\n",
              "      <td>0</td>\n",
              "      <td>0</td>\n",
              "      <td>0</td>\n",
              "      <td>0</td>\n",
              "      <td>0</td>\n",
              "      <td>0</td>\n",
              "      <td>0</td>\n",
              "      <td>0</td>\n",
              "      <td>0</td>\n",
              "      <td>0</td>\n",
              "      <td>0</td>\n",
              "      <td>0</td>\n",
              "      <td>0</td>\n",
              "      <td>0</td>\n",
              "      <td>0</td>\n",
              "      <td>0</td>\n",
              "      <td>0</td>\n",
              "      <td>0</td>\n",
              "      <td>0</td>\n",
              "      <td>0</td>\n",
              "      <td>0</td>\n",
              "      <td>1</td>\n",
              "      <td>0</td>\n",
              "      <td>0</td>\n",
              "      <td>0</td>\n",
              "      <td>0</td>\n",
              "      <td>0</td>\n",
              "      <td>0</td>\n",
              "      <td>0</td>\n",
              "      <td>0</td>\n",
              "      <td>0</td>\n",
              "      <td>0</td>\n",
              "      <td>0</td>\n",
              "      <td>0</td>\n",
              "      <td>0</td>\n",
              "      <td>0</td>\n",
              "      <td>0</td>\n",
              "      <td>0</td>\n",
              "      <td>0</td>\n",
              "      <td>0</td>\n",
              "      <td>0</td>\n",
              "      <td>0</td>\n",
              "      <td>0</td>\n",
              "      <td>0</td>\n",
              "      <td>0</td>\n",
              "      <td>0</td>\n",
              "      <td>0</td>\n",
              "      <td>0</td>\n",
              "      <td>0</td>\n",
              "      <td>0</td>\n",
              "      <td>0</td>\n",
              "      <td>0</td>\n",
              "      <td>0</td>\n",
              "      <td>0</td>\n",
              "      <td>0</td>\n",
              "      <td>0</td>\n",
              "      <td>0</td>\n",
              "      <td>0</td>\n",
              "      <td>0</td>\n",
              "      <td>0</td>\n",
              "      <td>0</td>\n",
              "      <td>0</td>\n",
              "      <td>0</td>\n",
              "      <td>0</td>\n",
              "      <td>0</td>\n",
              "      <td>1</td>\n",
              "      <td>0</td>\n",
              "    </tr>\n",
              "    <tr>\n",
              "      <th>1</th>\n",
              "      <td>1fe78d41-b8e0-4d21-a1a8-72cb7863f441</td>\n",
              "      <td>0</td>\n",
              "      <td>0</td>\n",
              "      <td>0</td>\n",
              "      <td>0</td>\n",
              "      <td>0</td>\n",
              "      <td>0</td>\n",
              "      <td>0</td>\n",
              "      <td>0</td>\n",
              "      <td>0</td>\n",
              "      <td>0</td>\n",
              "      <td>0</td>\n",
              "      <td>0</td>\n",
              "      <td>0</td>\n",
              "      <td>0</td>\n",
              "      <td>0</td>\n",
              "      <td>0</td>\n",
              "      <td>0</td>\n",
              "      <td>0</td>\n",
              "      <td>0</td>\n",
              "      <td>0</td>\n",
              "      <td>0</td>\n",
              "      <td>0</td>\n",
              "      <td>0</td>\n",
              "      <td>0</td>\n",
              "      <td>0</td>\n",
              "      <td>0</td>\n",
              "      <td>0</td>\n",
              "      <td>0</td>\n",
              "      <td>0</td>\n",
              "      <td>0</td>\n",
              "      <td>0</td>\n",
              "      <td>0</td>\n",
              "      <td>0</td>\n",
              "      <td>0</td>\n",
              "      <td>0</td>\n",
              "      <td>0</td>\n",
              "      <td>0</td>\n",
              "      <td>0</td>\n",
              "      <td>0</td>\n",
              "      <td>0</td>\n",
              "      <td>0</td>\n",
              "      <td>0</td>\n",
              "      <td>0</td>\n",
              "      <td>0</td>\n",
              "      <td>0</td>\n",
              "      <td>0</td>\n",
              "      <td>0</td>\n",
              "      <td>0</td>\n",
              "      <td>0</td>\n",
              "      <td>0</td>\n",
              "      <td>0</td>\n",
              "      <td>0</td>\n",
              "      <td>0</td>\n",
              "      <td>0</td>\n",
              "      <td>0</td>\n",
              "      <td>0</td>\n",
              "      <td>0</td>\n",
              "      <td>0</td>\n",
              "      <td>0</td>\n",
              "      <td>0</td>\n",
              "      <td>0</td>\n",
              "      <td>0</td>\n",
              "      <td>0</td>\n",
              "      <td>0</td>\n",
              "      <td>1</td>\n",
              "      <td>0</td>\n",
              "      <td>0</td>\n",
              "      <td>0</td>\n",
              "      <td>0</td>\n",
              "      <td>0</td>\n",
              "      <td>0</td>\n",
              "      <td>0</td>\n",
              "      <td>0</td>\n",
              "      <td>0</td>\n",
              "      <td>0</td>\n",
              "      <td>0</td>\n",
              "      <td>0</td>\n",
              "      <td>0</td>\n",
              "      <td>0</td>\n",
              "      <td>0</td>\n",
              "      <td>0</td>\n",
              "      <td>0</td>\n",
              "      <td>0</td>\n",
              "      <td>0</td>\n",
              "      <td>0</td>\n",
              "      <td>0</td>\n",
              "      <td>0</td>\n",
              "      <td>0</td>\n",
              "      <td>0</td>\n",
              "      <td>0</td>\n",
              "      <td>0</td>\n",
              "      <td>0</td>\n",
              "      <td>0</td>\n",
              "      <td>0</td>\n",
              "      <td>0</td>\n",
              "      <td>0</td>\n",
              "      <td>0</td>\n",
              "      <td>0</td>\n",
              "      <td>0</td>\n",
              "      <td>0</td>\n",
              "      <td>0</td>\n",
              "      <td>0</td>\n",
              "      <td>0</td>\n",
              "      <td>0</td>\n",
              "      <td>0</td>\n",
              "      <td>0</td>\n",
              "      <td>0</td>\n",
              "      <td>0</td>\n",
              "      <td>0</td>\n",
              "      <td>0</td>\n",
              "      <td>0</td>\n",
              "      <td>0</td>\n",
              "      <td>0</td>\n",
              "      <td>0</td>\n",
              "      <td>0</td>\n",
              "      <td>0</td>\n",
              "      <td>0</td>\n",
              "      <td>0</td>\n",
              "      <td>0</td>\n",
              "      <td>0</td>\n",
              "      <td>0</td>\n",
              "      <td>0</td>\n",
              "      <td>0</td>\n",
              "      <td>0</td>\n",
              "      <td>0</td>\n",
              "      <td>0</td>\n",
              "      <td>0</td>\n",
              "      <td>0</td>\n",
              "      <td>0</td>\n",
              "      <td>0</td>\n",
              "      <td>0</td>\n",
              "      <td>0</td>\n",
              "      <td>0</td>\n",
              "      <td>0</td>\n",
              "      <td>0</td>\n",
              "      <td>0</td>\n",
              "      <td>0</td>\n",
              "      <td>0</td>\n",
              "      <td>0</td>\n",
              "      <td>0</td>\n",
              "      <td>0</td>\n",
              "      <td>0</td>\n",
              "      <td>0</td>\n",
              "      <td>0</td>\n",
              "      <td>0</td>\n",
              "      <td>0</td>\n",
              "      <td>0</td>\n",
              "      <td>0</td>\n",
              "      <td>0</td>\n",
              "      <td>0</td>\n",
              "      <td>0</td>\n",
              "      <td>0</td>\n",
              "      <td>0</td>\n",
              "      <td>0</td>\n",
              "      <td>1</td>\n",
              "      <td>0</td>\n",
              "      <td>0</td>\n",
              "    </tr>\n",
              "    <tr>\n",
              "      <th>2</th>\n",
              "      <td>1fa1c1e5-e98c-433f-9675-1b43d7d6da01</td>\n",
              "      <td>0</td>\n",
              "      <td>0</td>\n",
              "      <td>0</td>\n",
              "      <td>0</td>\n",
              "      <td>0</td>\n",
              "      <td>0</td>\n",
              "      <td>0</td>\n",
              "      <td>0</td>\n",
              "      <td>0</td>\n",
              "      <td>0</td>\n",
              "      <td>0</td>\n",
              "      <td>0</td>\n",
              "      <td>0</td>\n",
              "      <td>0</td>\n",
              "      <td>0</td>\n",
              "      <td>0</td>\n",
              "      <td>0</td>\n",
              "      <td>0</td>\n",
              "      <td>0</td>\n",
              "      <td>0</td>\n",
              "      <td>0</td>\n",
              "      <td>0</td>\n",
              "      <td>0</td>\n",
              "      <td>0</td>\n",
              "      <td>0</td>\n",
              "      <td>0</td>\n",
              "      <td>0</td>\n",
              "      <td>0</td>\n",
              "      <td>0</td>\n",
              "      <td>0</td>\n",
              "      <td>0</td>\n",
              "      <td>0</td>\n",
              "      <td>0</td>\n",
              "      <td>0</td>\n",
              "      <td>0</td>\n",
              "      <td>1</td>\n",
              "      <td>0</td>\n",
              "      <td>0</td>\n",
              "      <td>0</td>\n",
              "      <td>0</td>\n",
              "      <td>0</td>\n",
              "      <td>0</td>\n",
              "      <td>0</td>\n",
              "      <td>0</td>\n",
              "      <td>0</td>\n",
              "      <td>0</td>\n",
              "      <td>0</td>\n",
              "      <td>0</td>\n",
              "      <td>0</td>\n",
              "      <td>0</td>\n",
              "      <td>0</td>\n",
              "      <td>0</td>\n",
              "      <td>0</td>\n",
              "      <td>0</td>\n",
              "      <td>0</td>\n",
              "      <td>0</td>\n",
              "      <td>0</td>\n",
              "      <td>0</td>\n",
              "      <td>0</td>\n",
              "      <td>0</td>\n",
              "      <td>0</td>\n",
              "      <td>0</td>\n",
              "      <td>0</td>\n",
              "      <td>0</td>\n",
              "      <td>0</td>\n",
              "      <td>0</td>\n",
              "      <td>0</td>\n",
              "      <td>0</td>\n",
              "      <td>0</td>\n",
              "      <td>0</td>\n",
              "      <td>0</td>\n",
              "      <td>0</td>\n",
              "      <td>0</td>\n",
              "      <td>0</td>\n",
              "      <td>0</td>\n",
              "      <td>0</td>\n",
              "      <td>0</td>\n",
              "      <td>0</td>\n",
              "      <td>0</td>\n",
              "      <td>0</td>\n",
              "      <td>0</td>\n",
              "      <td>0</td>\n",
              "      <td>0</td>\n",
              "      <td>0</td>\n",
              "      <td>0</td>\n",
              "      <td>0</td>\n",
              "      <td>0</td>\n",
              "      <td>0</td>\n",
              "      <td>0</td>\n",
              "      <td>0</td>\n",
              "      <td>0</td>\n",
              "      <td>0</td>\n",
              "      <td>0</td>\n",
              "      <td>0</td>\n",
              "      <td>0</td>\n",
              "      <td>0</td>\n",
              "      <td>0</td>\n",
              "      <td>0</td>\n",
              "      <td>0</td>\n",
              "      <td>0</td>\n",
              "      <td>0</td>\n",
              "      <td>0</td>\n",
              "      <td>0</td>\n",
              "      <td>0</td>\n",
              "      <td>0</td>\n",
              "      <td>0</td>\n",
              "      <td>0</td>\n",
              "      <td>0</td>\n",
              "      <td>0</td>\n",
              "      <td>0</td>\n",
              "      <td>0</td>\n",
              "      <td>0</td>\n",
              "      <td>0</td>\n",
              "      <td>0</td>\n",
              "      <td>0</td>\n",
              "      <td>0</td>\n",
              "      <td>0</td>\n",
              "      <td>0</td>\n",
              "      <td>0</td>\n",
              "      <td>0</td>\n",
              "      <td>0</td>\n",
              "      <td>0</td>\n",
              "      <td>0</td>\n",
              "      <td>0</td>\n",
              "      <td>0</td>\n",
              "      <td>0</td>\n",
              "      <td>0</td>\n",
              "      <td>0</td>\n",
              "      <td>0</td>\n",
              "      <td>0</td>\n",
              "      <td>0</td>\n",
              "      <td>0</td>\n",
              "      <td>0</td>\n",
              "      <td>0</td>\n",
              "      <td>0</td>\n",
              "      <td>0</td>\n",
              "      <td>0</td>\n",
              "      <td>0</td>\n",
              "      <td>0</td>\n",
              "      <td>0</td>\n",
              "      <td>0</td>\n",
              "      <td>0</td>\n",
              "      <td>0</td>\n",
              "      <td>0</td>\n",
              "      <td>0</td>\n",
              "      <td>0</td>\n",
              "      <td>0</td>\n",
              "      <td>0</td>\n",
              "      <td>0</td>\n",
              "      <td>0</td>\n",
              "      <td>0</td>\n",
              "      <td>0</td>\n",
              "      <td>0</td>\n",
              "      <td>0</td>\n",
              "      <td>0</td>\n",
              "      <td>1</td>\n",
              "      <td>0</td>\n",
              "    </tr>\n",
              "    <tr>\n",
              "      <th>3</th>\n",
              "      <td>a6ab01ae-3d40-40e7-bb6a-f2334e0abbe0</td>\n",
              "      <td>0</td>\n",
              "      <td>0</td>\n",
              "      <td>0</td>\n",
              "      <td>0</td>\n",
              "      <td>0</td>\n",
              "      <td>0</td>\n",
              "      <td>0</td>\n",
              "      <td>0</td>\n",
              "      <td>0</td>\n",
              "      <td>0</td>\n",
              "      <td>0</td>\n",
              "      <td>0</td>\n",
              "      <td>0</td>\n",
              "      <td>0</td>\n",
              "      <td>0</td>\n",
              "      <td>0</td>\n",
              "      <td>0</td>\n",
              "      <td>0</td>\n",
              "      <td>0</td>\n",
              "      <td>0</td>\n",
              "      <td>0</td>\n",
              "      <td>0</td>\n",
              "      <td>0</td>\n",
              "      <td>0</td>\n",
              "      <td>0</td>\n",
              "      <td>0</td>\n",
              "      <td>0</td>\n",
              "      <td>0</td>\n",
              "      <td>0</td>\n",
              "      <td>0</td>\n",
              "      <td>0</td>\n",
              "      <td>0</td>\n",
              "      <td>0</td>\n",
              "      <td>0</td>\n",
              "      <td>0</td>\n",
              "      <td>0</td>\n",
              "      <td>0</td>\n",
              "      <td>0</td>\n",
              "      <td>0</td>\n",
              "      <td>0</td>\n",
              "      <td>0</td>\n",
              "      <td>0</td>\n",
              "      <td>0</td>\n",
              "      <td>0</td>\n",
              "      <td>0</td>\n",
              "      <td>0</td>\n",
              "      <td>0</td>\n",
              "      <td>0</td>\n",
              "      <td>0</td>\n",
              "      <td>0</td>\n",
              "      <td>0</td>\n",
              "      <td>0</td>\n",
              "      <td>0</td>\n",
              "      <td>0</td>\n",
              "      <td>0</td>\n",
              "      <td>0</td>\n",
              "      <td>0</td>\n",
              "      <td>0</td>\n",
              "      <td>0</td>\n",
              "      <td>0</td>\n",
              "      <td>0</td>\n",
              "      <td>0</td>\n",
              "      <td>0</td>\n",
              "      <td>0</td>\n",
              "      <td>0</td>\n",
              "      <td>0</td>\n",
              "      <td>0</td>\n",
              "      <td>0</td>\n",
              "      <td>0</td>\n",
              "      <td>0</td>\n",
              "      <td>0</td>\n",
              "      <td>0</td>\n",
              "      <td>0</td>\n",
              "      <td>0</td>\n",
              "      <td>0</td>\n",
              "      <td>0</td>\n",
              "      <td>0</td>\n",
              "      <td>0</td>\n",
              "      <td>0</td>\n",
              "      <td>0</td>\n",
              "      <td>0</td>\n",
              "      <td>0</td>\n",
              "      <td>0</td>\n",
              "      <td>0</td>\n",
              "      <td>0</td>\n",
              "      <td>0</td>\n",
              "      <td>0</td>\n",
              "      <td>0</td>\n",
              "      <td>0</td>\n",
              "      <td>0</td>\n",
              "      <td>0</td>\n",
              "      <td>0</td>\n",
              "      <td>0</td>\n",
              "      <td>0</td>\n",
              "      <td>0</td>\n",
              "      <td>0</td>\n",
              "      <td>0</td>\n",
              "      <td>0</td>\n",
              "      <td>0</td>\n",
              "      <td>0</td>\n",
              "      <td>0</td>\n",
              "      <td>0</td>\n",
              "      <td>0</td>\n",
              "      <td>0</td>\n",
              "      <td>0</td>\n",
              "      <td>0</td>\n",
              "      <td>0</td>\n",
              "      <td>0</td>\n",
              "      <td>0</td>\n",
              "      <td>0</td>\n",
              "      <td>0</td>\n",
              "      <td>0</td>\n",
              "      <td>0</td>\n",
              "      <td>0</td>\n",
              "      <td>0</td>\n",
              "      <td>0</td>\n",
              "      <td>0</td>\n",
              "      <td>0</td>\n",
              "      <td>0</td>\n",
              "      <td>0</td>\n",
              "      <td>0</td>\n",
              "      <td>0</td>\n",
              "      <td>0</td>\n",
              "      <td>0</td>\n",
              "      <td>0</td>\n",
              "      <td>0</td>\n",
              "      <td>0</td>\n",
              "      <td>0</td>\n",
              "      <td>0</td>\n",
              "      <td>0</td>\n",
              "      <td>0</td>\n",
              "      <td>0</td>\n",
              "      <td>0</td>\n",
              "      <td>0</td>\n",
              "      <td>0</td>\n",
              "      <td>0</td>\n",
              "      <td>1</td>\n",
              "      <td>0</td>\n",
              "      <td>0</td>\n",
              "      <td>0</td>\n",
              "      <td>0</td>\n",
              "      <td>0</td>\n",
              "      <td>0</td>\n",
              "      <td>0</td>\n",
              "      <td>0</td>\n",
              "      <td>0</td>\n",
              "      <td>0</td>\n",
              "      <td>0</td>\n",
              "      <td>0</td>\n",
              "      <td>0</td>\n",
              "      <td>0</td>\n",
              "      <td>0</td>\n",
              "      <td>0</td>\n",
              "      <td>0</td>\n",
              "      <td>1</td>\n",
              "      <td>0</td>\n",
              "      <td>0</td>\n",
              "    </tr>\n",
              "    <tr>\n",
              "      <th>4</th>\n",
              "      <td>1d8ff7a2-16bd-4e3f-a92e-1b85f923ebb0</td>\n",
              "      <td>0</td>\n",
              "      <td>0</td>\n",
              "      <td>0</td>\n",
              "      <td>0</td>\n",
              "      <td>0</td>\n",
              "      <td>0</td>\n",
              "      <td>0</td>\n",
              "      <td>0</td>\n",
              "      <td>0</td>\n",
              "      <td>0</td>\n",
              "      <td>0</td>\n",
              "      <td>0</td>\n",
              "      <td>0</td>\n",
              "      <td>0</td>\n",
              "      <td>0</td>\n",
              "      <td>0</td>\n",
              "      <td>0</td>\n",
              "      <td>0</td>\n",
              "      <td>0</td>\n",
              "      <td>0</td>\n",
              "      <td>0</td>\n",
              "      <td>0</td>\n",
              "      <td>0</td>\n",
              "      <td>0</td>\n",
              "      <td>0</td>\n",
              "      <td>0</td>\n",
              "      <td>1</td>\n",
              "      <td>0</td>\n",
              "      <td>0</td>\n",
              "      <td>0</td>\n",
              "      <td>0</td>\n",
              "      <td>0</td>\n",
              "      <td>0</td>\n",
              "      <td>0</td>\n",
              "      <td>0</td>\n",
              "      <td>0</td>\n",
              "      <td>0</td>\n",
              "      <td>0</td>\n",
              "      <td>0</td>\n",
              "      <td>0</td>\n",
              "      <td>0</td>\n",
              "      <td>0</td>\n",
              "      <td>0</td>\n",
              "      <td>0</td>\n",
              "      <td>0</td>\n",
              "      <td>0</td>\n",
              "      <td>0</td>\n",
              "      <td>0</td>\n",
              "      <td>0</td>\n",
              "      <td>0</td>\n",
              "      <td>0</td>\n",
              "      <td>0</td>\n",
              "      <td>0</td>\n",
              "      <td>0</td>\n",
              "      <td>0</td>\n",
              "      <td>0</td>\n",
              "      <td>0</td>\n",
              "      <td>0</td>\n",
              "      <td>0</td>\n",
              "      <td>0</td>\n",
              "      <td>0</td>\n",
              "      <td>0</td>\n",
              "      <td>0</td>\n",
              "      <td>0</td>\n",
              "      <td>0</td>\n",
              "      <td>0</td>\n",
              "      <td>0</td>\n",
              "      <td>0</td>\n",
              "      <td>0</td>\n",
              "      <td>0</td>\n",
              "      <td>0</td>\n",
              "      <td>0</td>\n",
              "      <td>0</td>\n",
              "      <td>0</td>\n",
              "      <td>0</td>\n",
              "      <td>0</td>\n",
              "      <td>0</td>\n",
              "      <td>0</td>\n",
              "      <td>0</td>\n",
              "      <td>0</td>\n",
              "      <td>0</td>\n",
              "      <td>0</td>\n",
              "      <td>0</td>\n",
              "      <td>0</td>\n",
              "      <td>0</td>\n",
              "      <td>0</td>\n",
              "      <td>0</td>\n",
              "      <td>0</td>\n",
              "      <td>0</td>\n",
              "      <td>0</td>\n",
              "      <td>0</td>\n",
              "      <td>0</td>\n",
              "      <td>0</td>\n",
              "      <td>0</td>\n",
              "      <td>0</td>\n",
              "      <td>0</td>\n",
              "      <td>0</td>\n",
              "      <td>0</td>\n",
              "      <td>0</td>\n",
              "      <td>0</td>\n",
              "      <td>0</td>\n",
              "      <td>0</td>\n",
              "      <td>0</td>\n",
              "      <td>0</td>\n",
              "      <td>0</td>\n",
              "      <td>0</td>\n",
              "      <td>0</td>\n",
              "      <td>0</td>\n",
              "      <td>0</td>\n",
              "      <td>0</td>\n",
              "      <td>0</td>\n",
              "      <td>0</td>\n",
              "      <td>0</td>\n",
              "      <td>0</td>\n",
              "      <td>0</td>\n",
              "      <td>0</td>\n",
              "      <td>0</td>\n",
              "      <td>0</td>\n",
              "      <td>0</td>\n",
              "      <td>0</td>\n",
              "      <td>0</td>\n",
              "      <td>0</td>\n",
              "      <td>0</td>\n",
              "      <td>0</td>\n",
              "      <td>0</td>\n",
              "      <td>0</td>\n",
              "      <td>0</td>\n",
              "      <td>0</td>\n",
              "      <td>0</td>\n",
              "      <td>0</td>\n",
              "      <td>0</td>\n",
              "      <td>0</td>\n",
              "      <td>0</td>\n",
              "      <td>0</td>\n",
              "      <td>0</td>\n",
              "      <td>0</td>\n",
              "      <td>0</td>\n",
              "      <td>0</td>\n",
              "      <td>0</td>\n",
              "      <td>0</td>\n",
              "      <td>0</td>\n",
              "      <td>0</td>\n",
              "      <td>0</td>\n",
              "      <td>0</td>\n",
              "      <td>0</td>\n",
              "      <td>0</td>\n",
              "      <td>0</td>\n",
              "      <td>0</td>\n",
              "      <td>0</td>\n",
              "      <td>0</td>\n",
              "      <td>0</td>\n",
              "      <td>0</td>\n",
              "      <td>0</td>\n",
              "      <td>1</td>\n",
              "      <td>0</td>\n",
              "      <td>0</td>\n",
              "      <td>0</td>\n",
              "    </tr>\n",
              "  </tbody>\n",
              "</table>\n",
              "</div>"
            ]
          },
          "metadata": {},
          "execution_count": 54
        }
      ]
    },
    {
      "cell_type": "markdown",
      "source": [
        "### Coluna `caracteristicas`"
      ],
      "metadata": {
        "id": "ZYdEuq4f3gV6"
      }
    },
    {
      "cell_type": "markdown",
      "source": [
        "A coluna `caracteristicas` tem diferentes especificidades que exigem um tratamento à parte. Esta coluna contém um array com características do condomínio do imóvel, como elevador, churrasqueira e piscina."
      ],
      "metadata": {
        "id": "Oxag4eAN3jiy"
      }
    },
    {
      "cell_type": "code",
      "source": [
        "# pega coluna de características\n",
        "df_carac = df.select('id', 'caracteristicas')\n",
        "\n",
        "# concatena a lista dentro de características \n",
        "df_carac = df_carac\\\n",
        "      .withColumn('aux_carac', f.concat_ws(', ', 'caracteristicas'))\\\n",
        "      .filter()\n",
        "\n",
        "df_carac.show(10)   \n"
      ],
      "metadata": {
        "colab": {
          "base_uri": "https://localhost:8080/"
        },
        "id": "coQ82Y684HS7",
        "outputId": "ab1dcb98-e45b-47d4-90e5-fe0291ec0288"
      },
      "execution_count": 60,
      "outputs": [
        {
          "output_type": "stream",
          "name": "stdout",
          "text": [
            "+--------------------+--------------------+--------------------+\n",
            "|                  id|     caracteristicas|           aux_carac|\n",
            "+--------------------+--------------------+--------------------+\n",
            "|03a386b6-7ab8-4ef...|[Churrasqueira, A...|Churrasqueira, Ac...|\n",
            "|1fe78d41-b8e0-4d2...|                  []|                    |\n",
            "|1fa1c1e5-e98c-433...|                  []|                    |\n",
            "|a6ab01ae-3d40-40e...|                  []|                    |\n",
            "|1d8ff7a2-16bd-4e3...|                  []|                    |\n",
            "|40a2cbde-946b-42d...|[Condomínio fecha...|Condomínio fechad...|\n",
            "|be269ddf-a4a3-4a7...|[Churrasqueira, C...|Churrasqueira, Co...|\n",
            "|4b7e3d59-34fd-4ba...|[Churrasqueira, P...|Churrasqueira, Pi...|\n",
            "|a1a0c2ac-4fa8-4b0...|[Churrasqueira, E...|Churrasqueira, El...|\n",
            "|390d2b88-e06d-47e...|   [Salão de festas]|     Salão de festas|\n",
            "+--------------------+--------------------+--------------------+\n",
            "only showing top 10 rows\n",
            "\n"
          ]
        }
      ]
    },
    {
      "cell_type": "code",
      "source": [
        "\n",
        "\n",
        "# junta todo mundo em um string ou lista\n",
        "caracteristicas = df_carac.agg(f.concat_ws(\", \", f.collect_list(df_carac.caracteristicas)))\n",
        "caracteristicas"
      ],
      "metadata": {
        "colab": {
          "base_uri": "https://localhost:8080/",
          "height": 1000
        },
        "id": "UiuMpclijbuJ",
        "outputId": "bc7aff3c-f3db-4390-8472-3becb4561050"
      },
      "execution_count": 59,
      "outputs": [
        {
          "output_type": "error",
          "ename": "AnalysisException",
          "evalue": "ignored",
          "traceback": [
            "\u001b[0;31m---------------------------------------------------------------------------\u001b[0m",
            "\u001b[0;31mAnalysisException\u001b[0m                         Traceback (most recent call last)",
            "\u001b[0;32m<ipython-input-59-c188c3149e17>\u001b[0m in \u001b[0;36m<module>\u001b[0;34m\u001b[0m\n\u001b[1;32m      3\u001b[0m \u001b[0;34m\u001b[0m\u001b[0m\n\u001b[1;32m      4\u001b[0m \u001b[0;31m# junta todo mundo em um string ou lista\u001b[0m\u001b[0;34m\u001b[0m\u001b[0;34m\u001b[0m\u001b[0;34m\u001b[0m\u001b[0m\n\u001b[0;32m----> 5\u001b[0;31m \u001b[0mcaracteristicas\u001b[0m \u001b[0;34m=\u001b[0m \u001b[0mdf_carac\u001b[0m\u001b[0;34m.\u001b[0m\u001b[0magg\u001b[0m\u001b[0;34m(\u001b[0m\u001b[0mf\u001b[0m\u001b[0;34m.\u001b[0m\u001b[0mconcat_ws\u001b[0m\u001b[0;34m(\u001b[0m\u001b[0;34m\", \"\u001b[0m\u001b[0;34m,\u001b[0m \u001b[0mf\u001b[0m\u001b[0;34m.\u001b[0m\u001b[0mcollect_list\u001b[0m\u001b[0;34m(\u001b[0m\u001b[0mdf_carac\u001b[0m\u001b[0;34m.\u001b[0m\u001b[0mcaracteristicas\u001b[0m\u001b[0;34m)\u001b[0m\u001b[0;34m)\u001b[0m\u001b[0;34m)\u001b[0m\u001b[0;34m\u001b[0m\u001b[0;34m\u001b[0m\u001b[0m\n\u001b[0m\u001b[1;32m      6\u001b[0m \u001b[0mcaracteristicas\u001b[0m\u001b[0;34m\u001b[0m\u001b[0;34m\u001b[0m\u001b[0m\n",
            "\u001b[0;32m/content/spark-3.2.1-bin-hadoop3.2/python/pyspark/sql/dataframe.py\u001b[0m in \u001b[0;36magg\u001b[0;34m(self, *exprs)\u001b[0m\n\u001b[1;32m   1830\u001b[0m         \u001b[0;34m[\u001b[0m\u001b[0mRow\u001b[0m\u001b[0;34m(\u001b[0m\u001b[0mmin\u001b[0m\u001b[0;34m(\u001b[0m\u001b[0mage\u001b[0m\u001b[0;34m)\u001b[0m\u001b[0;34m=\u001b[0m\u001b[0;36m2\u001b[0m\u001b[0;34m)\u001b[0m\u001b[0;34m]\u001b[0m\u001b[0;34m\u001b[0m\u001b[0;34m\u001b[0m\u001b[0m\n\u001b[1;32m   1831\u001b[0m         \"\"\"\n\u001b[0;32m-> 1832\u001b[0;31m         \u001b[0;32mreturn\u001b[0m \u001b[0mself\u001b[0m\u001b[0;34m.\u001b[0m\u001b[0mgroupBy\u001b[0m\u001b[0;34m(\u001b[0m\u001b[0;34m)\u001b[0m\u001b[0;34m.\u001b[0m\u001b[0magg\u001b[0m\u001b[0;34m(\u001b[0m\u001b[0;34m*\u001b[0m\u001b[0mexprs\u001b[0m\u001b[0;34m)\u001b[0m\u001b[0;34m\u001b[0m\u001b[0;34m\u001b[0m\u001b[0m\n\u001b[0m\u001b[1;32m   1833\u001b[0m \u001b[0;34m\u001b[0m\u001b[0m\n\u001b[1;32m   1834\u001b[0m     \u001b[0;34m@\u001b[0m\u001b[0msince\u001b[0m\u001b[0;34m(\u001b[0m\u001b[0;36m2.0\u001b[0m\u001b[0;34m)\u001b[0m\u001b[0;34m\u001b[0m\u001b[0;34m\u001b[0m\u001b[0m\n",
            "\u001b[0;32m/content/spark-3.2.1-bin-hadoop3.2/python/pyspark/sql/group.py\u001b[0m in \u001b[0;36magg\u001b[0;34m(self, *exprs)\u001b[0m\n\u001b[1;32m    116\u001b[0m             \u001b[0;31m# Columns\u001b[0m\u001b[0;34m\u001b[0m\u001b[0;34m\u001b[0m\u001b[0;34m\u001b[0m\u001b[0m\n\u001b[1;32m    117\u001b[0m             \u001b[0;32massert\u001b[0m \u001b[0mall\u001b[0m\u001b[0;34m(\u001b[0m\u001b[0misinstance\u001b[0m\u001b[0;34m(\u001b[0m\u001b[0mc\u001b[0m\u001b[0;34m,\u001b[0m \u001b[0mColumn\u001b[0m\u001b[0;34m)\u001b[0m \u001b[0;32mfor\u001b[0m \u001b[0mc\u001b[0m \u001b[0;32min\u001b[0m \u001b[0mexprs\u001b[0m\u001b[0;34m)\u001b[0m\u001b[0;34m,\u001b[0m \u001b[0;34m\"all exprs should be Column\"\u001b[0m\u001b[0;34m\u001b[0m\u001b[0;34m\u001b[0m\u001b[0m\n\u001b[0;32m--> 118\u001b[0;31m             jdf = self._jgd.agg(exprs[0]._jc,\n\u001b[0m\u001b[1;32m    119\u001b[0m                                 _to_seq(self.sql_ctx._sc, [c._jc for c in exprs[1:]]))\n\u001b[1;32m    120\u001b[0m         \u001b[0;32mreturn\u001b[0m \u001b[0mDataFrame\u001b[0m\u001b[0;34m(\u001b[0m\u001b[0mjdf\u001b[0m\u001b[0;34m,\u001b[0m \u001b[0mself\u001b[0m\u001b[0;34m.\u001b[0m\u001b[0msql_ctx\u001b[0m\u001b[0;34m)\u001b[0m\u001b[0;34m\u001b[0m\u001b[0;34m\u001b[0m\u001b[0m\n",
            "\u001b[0;32m/content/spark-3.2.1-bin-hadoop3.2/python/lib/py4j-0.10.9.3-src.zip/py4j/java_gateway.py\u001b[0m in \u001b[0;36m__call__\u001b[0;34m(self, *args)\u001b[0m\n\u001b[1;32m   1319\u001b[0m \u001b[0;34m\u001b[0m\u001b[0m\n\u001b[1;32m   1320\u001b[0m         \u001b[0manswer\u001b[0m \u001b[0;34m=\u001b[0m \u001b[0mself\u001b[0m\u001b[0;34m.\u001b[0m\u001b[0mgateway_client\u001b[0m\u001b[0;34m.\u001b[0m\u001b[0msend_command\u001b[0m\u001b[0;34m(\u001b[0m\u001b[0mcommand\u001b[0m\u001b[0;34m)\u001b[0m\u001b[0;34m\u001b[0m\u001b[0;34m\u001b[0m\u001b[0m\n\u001b[0;32m-> 1321\u001b[0;31m         return_value = get_return_value(\n\u001b[0m\u001b[1;32m   1322\u001b[0m             answer, self.gateway_client, self.target_id, self.name)\n\u001b[1;32m   1323\u001b[0m \u001b[0;34m\u001b[0m\u001b[0m\n",
            "\u001b[0;32m/content/spark-3.2.1-bin-hadoop3.2/python/pyspark/sql/utils.py\u001b[0m in \u001b[0;36mdeco\u001b[0;34m(*a, **kw)\u001b[0m\n\u001b[1;32m    115\u001b[0m                 \u001b[0;31m# Hide where the exception came from that shows a non-Pythonic\u001b[0m\u001b[0;34m\u001b[0m\u001b[0;34m\u001b[0m\u001b[0;34m\u001b[0m\u001b[0m\n\u001b[1;32m    116\u001b[0m                 \u001b[0;31m# JVM exception message.\u001b[0m\u001b[0;34m\u001b[0m\u001b[0;34m\u001b[0m\u001b[0;34m\u001b[0m\u001b[0m\n\u001b[0;32m--> 117\u001b[0;31m                 \u001b[0;32mraise\u001b[0m \u001b[0mconverted\u001b[0m \u001b[0;32mfrom\u001b[0m \u001b[0;32mNone\u001b[0m\u001b[0;34m\u001b[0m\u001b[0;34m\u001b[0m\u001b[0m\n\u001b[0m\u001b[1;32m    118\u001b[0m             \u001b[0;32melse\u001b[0m\u001b[0;34m:\u001b[0m\u001b[0;34m\u001b[0m\u001b[0;34m\u001b[0m\u001b[0m\n\u001b[1;32m    119\u001b[0m                 \u001b[0;32mraise\u001b[0m\u001b[0;34m\u001b[0m\u001b[0;34m\u001b[0m\u001b[0m\n",
            "\u001b[0;31mAnalysisException\u001b[0m: cannot resolve 'concat_ws(', ', collect_list(caracteristicas))' due to data type mismatch: argument 2 requires (array<string> or string) type, however, 'collect_list(caracteristicas)' is of array<array<string>> type.;\n'Aggregate [concat_ws(, , collect_list(caracteristicas#9652, 0, 0)) AS concat_ws(, , collect_list(caracteristicas))#16410]\n+- Project [id#9647, caracteristicas#9652]\n   +- Project [id#9647, andar#10420, area_util#9702, banheiros#10439, caracteristicas#9652, quartos#10458, suites#11734, vaga#11755, bairro#9659, zona#9660, condominio#11776, iptu#11797, valor#9759]\n      +- Project [id#9647, andar#10420, area_total#11713, area_util#9702, banheiros#10439, caracteristicas#9652, quartos#10458, suites#11734, vaga#11755, bairro#9659, zona#9660, condominio#11776, iptu#11797, valor#9759]\n         +- Project [id#9647, andar#10420, area_total#11713, area_util#9702, banheiros#10439, caracteristicas#9652, quartos#10458, suites#11734, tipo_anuncio#9655, tipo_unidade#9656, tipo_uso#9657, vaga#11755, bairro#9659, zona#9660, condominio#11776, iptu#11797, tipo#9663, valor#9759]\n            +- Project [id#9647, andar#10420, area_total#11713, area_util#9702, banheiros#10439, caracteristicas#9652, quartos#10458, suites#11734, tipo_anuncio#9655, tipo_unidade#9656, tipo_uso#9657, vaga#11755, bairro#9659, zona#9660, condominio#11776, tipo#9663, valor#9759, iptu#9740, _we0#11798, CASE WHEN (isnan(iptu#9740) OR isnull(iptu#9740)) THEN _we0#11798 ELSE iptu#9740 END AS iptu#11797]\n               +- Window [avg(iptu#9740) windowspecdefinition(bairro#9659, specifiedwindowframe(RowFrame, unboundedpreceding$(), unboundedfollowing$())) AS _we0#11798], [bairro#9659]\n                  +- Project [id#9647, andar#10420, area_total#11713, area_util#9702, banheiros#10439, caracteristicas#9652, quartos#10458, suites#11734, tipo_anuncio#9655, tipo_unidade#9656, tipo_uso#9657, vaga#11755, bairro#9659, zona#9660, condominio#11776, tipo#9663, valor#9759, iptu#9740]\n                     +- Project [id#9647, andar#10420, area_total#11713, area_util#9702, banheiros#10439, caracteristicas#9652, quartos#10458, suites#11734, tipo_anuncio#9655, tipo_unidade#9656, tipo_uso#9657, vaga#11755, bairro#9659, zona#9660, condominio#11776, iptu#9740, tipo#9663, valor#9759]\n                        +- Project [id#9647, andar#10420, area_total#11713, area_util#9702, banheiros#10439, caracteristicas#9652, quartos#10458, suites#11734, tipo_anuncio#9655, tipo_unidade#9656, tipo_uso#9657, vaga#11755, bairro#9659, zona#9660, iptu#9740, tipo#9663, valor#9759, condominio#9721, _we0#11777, CASE WHEN (isnan(condominio#9721) OR isnull(condominio#9721)) THEN _we0#11777 ELSE condominio#9721 END AS condominio#11776]\n                           +- Window [avg(condominio#9721) windowspecdefinition(bairro#9659, specifiedwindowframe(RowFrame, unboundedpreceding$(), unboundedfollowing$())) AS _we0#11777], [bairro#9659]\n                              +- Project [id#9647, andar#10420, area_total#11713, area_util#9702, banheiros#10439, caracteristicas#9652, quartos#10458, suites#11734, tipo_anuncio#9655, tipo_unidade#9656, tipo_uso#9657, vaga#11755, bairro#9659, zona#9660, iptu#9740, tipo#9663, valor#9759, condominio#9721]\n                                 +- Project [id#9647, andar#10420, area_total#11713, area_util#9702, banheiros#10439, caracteristicas#9652, quartos#10458, suites#11734, tipo_anuncio#9655, tipo_unidade#9656, tipo_uso#9657, vaga#11755, bairro#9659, zona#9660, condominio#9721, iptu#9740, tipo#9663, valor#9759]\n                                    +- Project [id#9647, andar#10420, area_total#11713, area_util#9702, banheiros#10439, caracteristicas#9652, quartos#10458, suites#11734, tipo_anuncio#9655, tipo_unidade#9656, tipo_uso#9657, bairro#9659, zona#9660, condominio#9721, iptu#9740, tipo#9663, valor#9759, vaga#10496, _we0#11756, CASE WHEN (isnan(cast(vaga#10496 as double)) OR isnull(vaga#10496)) THEN _we0#11756 ELSE cast(vaga#10496 as double) END AS vaga#11755]\n                                       +- Window [avg(vaga#10496) windowspecdefinition(bairro#9659, specifiedwindowframe(RowFrame, unboundedpreceding$(), unboundedfollowing$())) AS _we0#11756], [bairro#9659]\n                                          +- Project [id#9647, andar#10420, area_total#11713, area_util#9702, banheiros#10439, caracteristicas#9652, quartos#10458, suites#11734, tipo_anuncio#9655, tipo_unidade#9656, tipo_uso#9657, bairro#9659, zona#9660, condominio#9721, iptu#9740, tipo#9663, valor#9759, vaga#10496]\n                                             +- Project [id#9647, andar#10420, area_total#11713, area_util#9702, banheiros#10439, caracteristicas#9652, quartos#10458, suites#11734, tipo_anuncio#9655, tipo_unidade#9656, tipo_uso#9657, vaga#10496, bairro#9659, zona#9660, condominio#9721, iptu#9740, tipo#9663, valor#9759]\n                                                +- Project [id#9647, andar#10420, area_total#11713, area_util#9702, banheiros#10439, caracteristicas#9652, quartos#10458, tipo_anuncio#9655, tipo_unidade#9656, tipo_uso#9657, vaga#10496, bairro#9659, zona#9660, condominio#9721, iptu#9740, tipo#9663, valor#9759, suites#10477, _we0#11735, CASE WHEN (isnan(cast(suites#10477 as double)) OR isnull(suites#10477)) THEN _we0#11735 ELSE cast(suites#10477 as double) END AS suites#11734]\n                                                   +- Window [avg(suites#10477) windowspecdefinition(bairro#9659, specifiedwindowframe(RowFrame, unboundedpreceding$(), unboundedfollowing$())) AS _we0#11735], [bairro#9659]\n                                                      +- Project [id#9647, andar#10420, area_total#11713, area_util#9702, banheiros#10439, caracteristicas#9652, quartos#10458, tipo_anuncio#9655, tipo_unidade#9656, tipo_uso#9657, vaga#10496, bairro#9659, zona#9660, condominio#9721, iptu#9740, tipo#9663, valor#9759, suites#10477]\n                                                         +- Project [id#9647, andar#10420, area_total#11713, area_util#9702, banheiros#10439, caracteristicas#9652, quartos#10458, suites#10477, tipo_anuncio#9655, tipo_unidade#9656, tipo_uso#9657, vaga#10496, bairro#9659, zona#9660, condominio#9721, iptu#9740, tipo#9663, valor#9759]\n                                                            +- Project [id#9647, andar#10420, area_util#9702, banheiros#10439, caracteristicas#9652, quartos#10458, suites#10477, tipo_anuncio#9655, tipo_unidade#9656, tipo_uso#9657, vaga#10496, bairro#9659, zona#9660, condominio#9721, iptu#9740, tipo#9663, valor#9759, area_total#9683, _we0#11714, CASE WHEN (isnan(area_total#9683) OR isnull(area_total#9683)) THEN _we0#11714 ELSE area_total#9683 END AS area_total#11713]\n                                                               +- Window [avg(area_total#9683) windowspecdefinition(bairro#9659, specifiedwindowframe(RowFrame, unboundedpreceding$(), unboundedfollowing$())) AS _we0#11714], [bairro#9659]\n                                                                  +- Project [id#9647, andar#10420, area_util#9702, banheiros#10439, caracteristicas#9652, quartos#10458, suites#10477, tipo_anuncio#9655, tipo_unidade#9656, tipo_uso#9657, vaga#10496, bairro#9659, zona#9660, condominio#9721, iptu#9740, tipo#9663, valor#9759, area_total#9683]\n                                                                     +- Project [id#9647, andar#10420, area_total#9683, area_util#9702, banheiros#10439, caracteristicas#9652, quartos#10458, suites#10477, tipo_anuncio#9655, tipo_unidade#9656, tipo_uso#9657, cast(vaga#9658L as smallint) AS vaga#10496, bairro#9659, zona#9660, condominio#9721, iptu#9740, tipo#9663, valor#9759]\n                                                                        +- Project [id#9647, andar#10420, area_total#9683, area_util#9702, banheiros#10439, caracteristicas#9652, quartos#10458, cast(suites#9654L as smallint) AS suites#10477, tipo_anuncio#9655, tipo_unidade#9656, tipo_uso#9657, vaga#9658L, bairro#9659, zona#9660, condominio#9721, iptu#9740, tipo#9663, valor#9759]\n                                                                           +- Project [id#9647, andar#10420, area_total#9683, area_util#9702, banheiros#10439, caracteristicas#9652, cast(quartos#9653L as smallint) AS quartos#10458, suites#9654L, tipo_anuncio#9655, tipo_unidade#9656, tipo_uso#9657, vaga#9658L, bairro#9659, zona#9660, condominio#9721, iptu#9740, tipo#9663, valor#9759]\n                                                                              +- Project [id#9647, andar#10420, area_total#9683, area_util#9702, cast(banheiros#9651L as smallint) AS banheiros#10439, caracteristicas#9652, quartos#9653L, suites#9654L, tipo_anuncio#9655, tipo_unidade#9656, tipo_uso#9657, vaga#9658L, bairro#9659, zona#9660, condominio#9721, iptu#9740, tipo#9663, valor#9759]\n                                                                                 +- Project [id#9647, cast(andar#9648L as smallint) AS andar#10420, area_total#9683, area_util#9702, banheiros#9651L, caracteristicas#9652, quartos#9653L, suites#9654L, tipo_anuncio#9655, tipo_unidade#9656, tipo_uso#9657, vaga#9658L, bairro#9659, zona#9660, condominio#9721, iptu#9740, tipo#9663, valor#9759]\n                                                                                    +- Project [id#9647, andar#9648L, area_total#9683, area_util#9702, banheiros#9651L, caracteristicas#9652, quartos#9653L, suites#9654L, tipo_anuncio#9655, tipo_unidade#9656, tipo_uso#9657, vaga#9658L, bairro#9659, zona#9660, condominio#9721, iptu#9740, tipo#9663, cast(valor#9664 as double) AS valor#9759]\n                                                                                       +- Project [id#9647, andar#9648L, area_total#9683, area_util#9702, banheiros#9651L, caracteristicas#9652, quartos#9653L, suites#9654L, tipo_anuncio#9655, tipo_unidade#9656, tipo_uso#9657, vaga#9658L, bairro#9659, zona#9660, condominio#9721, cast(iptu#9662 as double) AS iptu#9740, tipo#9663, valor#9664]\n                                                                                          +- Project [id#9647, andar#9648L, area_total#9683, area_util#9702, banheiros#9651L, caracteristicas#9652, quartos#9653L, suites#9654L, tipo_anuncio#9655, tipo_unidade#9656, tipo_uso#9657, vaga#9658L, bairro#9659, zona#9660, cast(condominio#9661 as double) AS condominio#9721, iptu#9662, tipo#9663, valor#9664]\n                                                                                             +- Project [id#9647, andar#9648L, area_total#9683, cast(area_util#9650 as double) AS area_util#9702, banheiros#9651L, caracteristicas#9652, quartos#9653L, suites#9654L, tipo_anuncio#9655, tipo_unidade#9656, tipo_uso#9657, vaga#9658L, bairro#9659, zona#9660, condominio#9661, iptu#9662, tipo#9663, valor#9664]\n                                                                                                +- Project [id#9647, andar#9648L, cast(area_total#9649 as double) AS area_total#9683, area_util#9650, banheiros#9651L, caracteristicas#9652, quartos#9653L, suites#9654L, tipo_anuncio#9655, tipo_unidade#9656, tipo_uso#9657, vaga#9658L, bairro#9659, zona#9660, condominio#9661, iptu#9662, tipo#9663, valor#9664]\n                                                                                                   +- Relation [id#9647,andar#9648L,area_total#9649,area_util#9650,banheiros#9651L,caracteristicas#9652,quartos#9653L,suites#9654L,tipo_anuncio#9655,tipo_unidade#9656,tipo_uso#9657,vaga#9658L,bairro#9659,zona#9660,condominio#9661,iptu#9662,tipo#9663,valor#9664] parquet\n"
          ]
        }
      ]
    },
    {
      "cell_type": "code",
      "source": [
        "# pegar os uniques\n",
        "# cria manualmente as variáveis usando find"
      ],
      "metadata": {
        "id": "r1U0KgMxLXzJ"
      },
      "execution_count": 34,
      "outputs": []
    }
  ]
}