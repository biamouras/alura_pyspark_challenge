{
  "nbformat": 4,
  "nbformat_minor": 0,
  "metadata": {
    "colab": {
      "provenance": [],
      "toc_visible": true,
      "authorship_tag": "ABX9TyNhmYvOdhDtgAxr9Sm/+rYG",
      "include_colab_link": true
    },
    "kernelspec": {
      "name": "python3",
      "display_name": "Python 3"
    },
    "language_info": {
      "name": "python"
    }
  },
  "cells": [
    {
      "cell_type": "markdown",
      "metadata": {
        "id": "view-in-github",
        "colab_type": "text"
      },
      "source": [
        "<a href=\"https://colab.research.google.com/github/biamouras/alura_pyspark_challenge/blob/main/Notebooks/01_tratamento_dados.ipynb\" target=\"_parent\"><img src=\"https://colab.research.google.com/assets/colab-badge.svg\" alt=\"Open In Colab\"/></a>"
      ]
    },
    {
      "cell_type": "markdown",
      "source": [
        "# Insightplaces - Tratamento dos dados"
      ],
      "metadata": {
        "id": "YE48lmB_sSZl"
      }
    },
    {
      "cell_type": "markdown",
      "source": [
        "A Insightplaces, plataforma fantasia de imóveis da Alura, está com dificuldades para definir os valores do imóveis e gostaria de fazer de modo automatizado. Ainda, a empresa percebeu que o recomendador atual não está sendo efetivo para gerar novos cliques entre os usuários.\n",
        "\n",
        "Nosso projeto será trabalhar com os dados disponibilizados de imóveis no Rio de Janeiro para ajudar a empresa a lidar com estes dois problemas usando regressão para a definição dos valores e a análise de agrupamentos através de Machine Learning. "
      ],
      "metadata": {
        "id": "V8dlncbIuXbJ"
      }
    },
    {
      "cell_type": "markdown",
      "source": [
        "Nesta primeira tarefa, iremos tratar os dados disponibilizados."
      ],
      "metadata": {
        "id": "QDKR7PdYvbAJ"
      }
    },
    {
      "cell_type": "markdown",
      "source": [
        "## Carregando os dados"
      ],
      "metadata": {
        "id": "ERRWsLjTvpTj"
      }
    },
    {
      "cell_type": "code",
      "source": [
        "from os import environ, listdir"
      ],
      "metadata": {
        "id": "Dxd4o2pV08CB"
      },
      "execution_count": 1,
      "outputs": []
    },
    {
      "cell_type": "code",
      "source": [
        "# instalar as dependências para utilizar Spark no Colab\n",
        "instala = True\n",
        "\n",
        "# verifica se já está instalado \n",
        "for f in listdir('/content'):\n",
        "  if f.find('spark') != -1:\n",
        "    instala = False\n",
        "    break \n",
        "\n",
        "if instala:\n",
        "  !apt-get update -qq\n",
        "  !apt-get install openjdk-8-jdk-headless -qq > /dev/null\n",
        "\n",
        "  !wget -q https://archive.apache.org/dist/spark/spark-3.1.2/spark-3.1.2-bin-hadoop2.7.tgz\n",
        "  !tar xf spark-3.1.2-bin-hadoop2.7.tgz\n",
        "  !pip install -q findspark\n",
        "\n",
        "environ[\"JAVA_HOME\"] = \"/usr/lib/jvm/java-8-openjdk-amd64\"\n",
        "environ[\"SPARK_HOME\"] = \"/content/spark-3.1.2-bin-hadoop2.7\"\n",
        "\n",
        "import findspark\n",
        "findspark.init()"
      ],
      "metadata": {
        "id": "tx0nvJMAvrsF"
      },
      "execution_count": 2,
      "outputs": []
    },
    {
      "cell_type": "code",
      "source": [
        "# iniciando o pyspark\n",
        "from pyspark.sql import SparkSession\n",
        "\n",
        "spark = SparkSession.builder \\\n",
        "    .master('local[*]') \\\n",
        "    .appName(\"Iniciando com Spark\") \\\n",
        "    .config('spark.ui.port', '4050')\\\n",
        "    .getOrCreate()"
      ],
      "metadata": {
        "id": "UZXVHvsSwAz-"
      },
      "execution_count": 3,
      "outputs": []
    },
    {
      "cell_type": "code",
      "source": [
        "from google.colab import drive\n",
        "drive.mount('/content/drive')"
      ],
      "metadata": {
        "colab": {
          "base_uri": "https://localhost:8080/"
        },
        "id": "XBUbuET2wLvw",
        "outputId": "12b7d18a-f611-4d07-ece3-5fcfe8524a0e"
      },
      "execution_count": 4,
      "outputs": [
        {
          "output_type": "stream",
          "name": "stdout",
          "text": [
            "Mounted at /content/drive\n"
          ]
        }
      ]
    },
    {
      "cell_type": "code",
      "source": [
        "# biblioteca para abrir o arquivo compactado\n",
        "import zipfile"
      ],
      "metadata": {
        "id": "rUb3KXdrxeAW"
      },
      "execution_count": 5,
      "outputs": []
    },
    {
      "cell_type": "code",
      "source": [
        "# caminho do arquivo \n",
        "dir_dados = '/content/drive/MyDrive/Colab Notebooks/alura_challenge_insightplaces/dados/'\n",
        "name = 'semana-1'\n",
        "\n",
        "# descompressão do arquivo\n",
        "zipfile.ZipFile(dir_dados + name +'.zip', 'r').extractall(dir_dados)\n",
        "# identificação do arquivo descomprimido\n",
        "files = listdir(dir_dados)\n",
        "\n",
        "path = [f for f in files if '.zip' not in f][0]\n",
        "# leitura do arquivo\n",
        "dados = spark.read.json(dir_dados + path)\n",
        "print(f'O arquivo \"{path}\" tem {dados.count()} observações')\n",
        "dados.show(5, truncate = False)"
      ],
      "metadata": {
        "colab": {
          "base_uri": "https://localhost:8080/"
        },
        "id": "_iEmnbNxw7km",
        "outputId": "d1286c0f-2972-4054-d52f-7e724139fee3"
      },
      "execution_count": 6,
      "outputs": [
        {
          "output_type": "stream",
          "name": "stdout",
          "text": [
            "O arquivo \"dataset_bruto.json\" tem 89083 observações\n",
            "+----------------------------------------------------------------------------------------------------------------------------------------------------------------------------------------------------------------------------------------------------------------------------------------------------+--------------------------------------------------------------------------------------------------------------------------------------------------------------------------------------------------------------------------------------------------------------------------------------------------------------------------------------------------------------------------------------------------------------------------------------------------------------------------------------------------------------------------------------------------------------------------------------------------------+------------------------------------------------+\n",
            "|anuncio                                                                                                                                                                                                                                                                                             |imagens                                                                                                                                                                                                                                                                                                                                                                                                                                                                                                                                                                                                 |usuario                                         |\n",
            "+----------------------------------------------------------------------------------------------------------------------------------------------------------------------------------------------------------------------------------------------------------------------------------------------------+--------------------------------------------------------------------------------------------------------------------------------------------------------------------------------------------------------------------------------------------------------------------------------------------------------------------------------------------------------------------------------------------------------------------------------------------------------------------------------------------------------------------------------------------------------------------------------------------------------+------------------------------------------------+\n",
            "|{0, [], [16], [0], [], {Centro, 20061003, Rio de Janeiro, Rio de Janeiro, -22.906082, -43.18671, BR, Rua Buenos Aires, Zona Central}, 47d553e0-79f2-4a46-9390-5a3c962740c2, [0], [0], Usado, Outros, Comercial, [1], [{260, 107, Venda, 10000}]}                                                    |[{39d6282a-71f3-47bc-94aa-909351ecd881, https://api.images.insightplaces.com.br/{type}/{width}/{height}/1b08098d-f2dc-439c-b604-a4e50d12774b.jpg}]                                                                                                                                                                                                                                                                                                                                                                                                                                                      |{9d44563d-3405-4e84-9381-35b7cf40a9a4, Frank}   |\n",
            "|{0, [], [14], [0], [], {Centro, 20051040, Rio de Janeiro, Rio de Janeiro, -22.902536, -43.18434, BR, Avenida Passos, Zona Central}, b6ffbae1-17f6-4870-9950-e998ac1c8d6a, [0], [], Usado, Outros, Comercial, [0], [{260, 107, Venda, 10000}]}                                                       |[{23d2b3ab-45b0-47f2-a27f-ffbe066c2c38, https://api.images.insightplaces.com.br/{type}/{width}/{height}/7a65b929-fe46-4a60-ae31-81faf2edb3c6.jpg}, {1b5f71f8-1aec-4b82-8d4c-67540d204a59, https://api.images.insightplaces.com.br/{type}/{width}/{height}/82e92d72-002a-4d3b-8063-16d4d65474b3.jpg}, {9bb11688-7dc9-48b9-bc1d-6a7a2dbcd553, https://api.images.insightplaces.com.br/{type}/{width}/{height}/23be0c2c-4c8f-4718-8126-6f160bb3efcc.jpg}, {1aaf6095-70bc-4f1f-87a4-fe3534a1bd2a, https://api.images.insightplaces.com.br/{type}/{width}/{height}/0ae382f4-b1ac-4ad9-b6cf-d9b4d7d01908.jpg}]|{36245be7-70fe-40cd-84d4-70a57dc8f976, Caroline}|\n",
            "|{0, [1026], [1026], [0], [], {Maria da Graça, 20785360, Rio de Janeiro, Rio de Janeiro, -22.885516, -43.269083, BR, Rua Luís de Brito, Zona Norte}, 1fb030a5-9e3e-4a1d-93cd-cd2d8a215e11, [0], [], Usado, Outros, Comercial, [0], [{null, 1613, Venda, 10000}]}                                     |[{1da65baa-368b-490f-bef7-1834b9a428c1, https://api.images.insightplaces.com.br/{type}/{width}/{height}/b06fe423-6f18-43bb-b0e3-a569158885d2.jpg}]                                                                                                                                                                                                                                                                                                                                                                                                                                                      |{9dc415d8-1397-4d8d-8425-b8310fad309d, Oliver}  |\n",
            "|{0, [120], [120], [0], [Portão eletrônico, Condomínio fechado], {Campo Grande, 23095071, Rio de Janeiro, Rio de Janeiro, -22.885028, -43.561668, BR, Estrada Guandu do Sape, Zona Oeste}, ac6cb348-69d6-45af-9589-dc34099370d8, [0], [], Usado, Outros, Residencial, [], [{80, null, Venda, 10000}]}|[{79b542c6-49b4-4f06-80b5-ef4fcdf98f76, https://api.images.insightplaces.com.br/{type}/{width}/{height}/b9688b1a-e6e8-4027-9368-d8298bc5ac40.jpg}]                                                                                                                                                                                                                                                                                                                                                                                                                                                      |{9911a2df-f299-4a73-a384-281417abaf69, Matthew} |\n",
            "|{0, [3], [3], [0], [], {São Cristóvão, 20931670, Rio de Janeiro, Rio de Janeiro, -22.885912, -43.219296, BR, Rua Monsenhor Manuel Gomes, Zona Norte}, e032b908-ef42-4d4a-8125-eba4792bacbe, [0], [], Usado, Outros, Residencial, [], [{0, 0, Venda, 5000}]}                                         |[{e2bc497b-6510-4731-8942-97b3d3cdab5e, https://api.images.insightplaces.com.br/{type}/{width}/{height}/bd7e2c54-8d10-4148-806d-0d656ff80fc2.jpg}]                                                                                                                                                                                                                                                                                                                                                                                                                                                      |{240a7aab-12e5-4069-9a2c-9dca4c4f9c68, Jude}    |\n",
            "+----------------------------------------------------------------------------------------------------------------------------------------------------------------------------------------------------------------------------------------------------------------------------------------------------+--------------------------------------------------------------------------------------------------------------------------------------------------------------------------------------------------------------------------------------------------------------------------------------------------------------------------------------------------------------------------------------------------------------------------------------------------------------------------------------------------------------------------------------------------------------------------------------------------------+------------------------------------------------+\n",
            "only showing top 5 rows\n",
            "\n"
          ]
        }
      ]
    },
    {
      "cell_type": "markdown",
      "source": [
        "Já observamos que a base de dados contém colunas agrupadas dentro da coluna `anuncio` e também da coluna `imagens`. "
      ],
      "metadata": {
        "id": "g7OoDrFFxh6Y"
      }
    },
    {
      "cell_type": "code",
      "source": [
        "dados.printSchema()"
      ],
      "metadata": {
        "colab": {
          "base_uri": "https://localhost:8080/"
        },
        "id": "ahA1b9zi67mu",
        "outputId": "14886259-29e8-4c3c-f03e-fcd7407fb507"
      },
      "execution_count": 7,
      "outputs": [
        {
          "output_type": "stream",
          "name": "stdout",
          "text": [
            "root\n",
            " |-- anuncio: struct (nullable = true)\n",
            " |    |-- andar: long (nullable = true)\n",
            " |    |-- area_total: array (nullable = true)\n",
            " |    |    |-- element: string (containsNull = true)\n",
            " |    |-- area_util: array (nullable = true)\n",
            " |    |    |-- element: string (containsNull = true)\n",
            " |    |-- banheiros: array (nullable = true)\n",
            " |    |    |-- element: long (containsNull = true)\n",
            " |    |-- caracteristicas: array (nullable = true)\n",
            " |    |    |-- element: string (containsNull = true)\n",
            " |    |-- endereco: struct (nullable = true)\n",
            " |    |    |-- bairro: string (nullable = true)\n",
            " |    |    |-- cep: string (nullable = true)\n",
            " |    |    |-- cidade: string (nullable = true)\n",
            " |    |    |-- estado: string (nullable = true)\n",
            " |    |    |-- latitude: double (nullable = true)\n",
            " |    |    |-- longitude: double (nullable = true)\n",
            " |    |    |-- pais: string (nullable = true)\n",
            " |    |    |-- rua: string (nullable = true)\n",
            " |    |    |-- zona: string (nullable = true)\n",
            " |    |-- id: string (nullable = true)\n",
            " |    |-- quartos: array (nullable = true)\n",
            " |    |    |-- element: long (containsNull = true)\n",
            " |    |-- suites: array (nullable = true)\n",
            " |    |    |-- element: long (containsNull = true)\n",
            " |    |-- tipo_anuncio: string (nullable = true)\n",
            " |    |-- tipo_unidade: string (nullable = true)\n",
            " |    |-- tipo_uso: string (nullable = true)\n",
            " |    |-- vaga: array (nullable = true)\n",
            " |    |    |-- element: long (containsNull = true)\n",
            " |    |-- valores: array (nullable = true)\n",
            " |    |    |-- element: struct (containsNull = true)\n",
            " |    |    |    |-- condominio: string (nullable = true)\n",
            " |    |    |    |-- iptu: string (nullable = true)\n",
            " |    |    |    |-- tipo: string (nullable = true)\n",
            " |    |    |    |-- valor: string (nullable = true)\n",
            " |-- imagens: array (nullable = true)\n",
            " |    |-- element: struct (containsNull = true)\n",
            " |    |    |-- id: string (nullable = true)\n",
            " |    |    |-- url: string (nullable = true)\n",
            " |-- usuario: struct (nullable = true)\n",
            " |    |-- id: string (nullable = true)\n",
            " |    |-- nome: string (nullable = true)\n",
            "\n"
          ]
        }
      ]
    },
    {
      "cell_type": "markdown",
      "source": [
        "As colunas serão separadas e selecionadas, pois vamos apenas trabalhar com os dados em `anuncio`"
      ],
      "metadata": {
        "id": "vRow_SeH6q-O"
      }
    },
    {
      "cell_type": "markdown",
      "source": [
        "## Desaninhando colunas dos tipos `Array`"
      ],
      "metadata": {
        "id": "Piw8L0f2pQeR"
      }
    },
    {
      "cell_type": "code",
      "source": [
        "import pyspark.sql.functions as f\n",
        "import pyspark.sql.types as types"
      ],
      "metadata": {
        "id": "cj8DEwF0AWIZ"
      },
      "execution_count": 8,
      "outputs": []
    },
    {
      "cell_type": "code",
      "source": [
        "# abrindo colunas em anuncio\n",
        "dados = dados\\\n",
        "     .select('anuncio.*')\n",
        "dados.printSchema()"
      ],
      "metadata": {
        "colab": {
          "base_uri": "https://localhost:8080/"
        },
        "id": "G-vXo7gVD4Xo",
        "outputId": "11999cec-7847-4631-efcd-e60932e6b522"
      },
      "execution_count": 9,
      "outputs": [
        {
          "output_type": "stream",
          "name": "stdout",
          "text": [
            "root\n",
            " |-- andar: long (nullable = true)\n",
            " |-- area_total: array (nullable = true)\n",
            " |    |-- element: string (containsNull = true)\n",
            " |-- area_util: array (nullable = true)\n",
            " |    |-- element: string (containsNull = true)\n",
            " |-- banheiros: array (nullable = true)\n",
            " |    |-- element: long (containsNull = true)\n",
            " |-- caracteristicas: array (nullable = true)\n",
            " |    |-- element: string (containsNull = true)\n",
            " |-- endereco: struct (nullable = true)\n",
            " |    |-- bairro: string (nullable = true)\n",
            " |    |-- cep: string (nullable = true)\n",
            " |    |-- cidade: string (nullable = true)\n",
            " |    |-- estado: string (nullable = true)\n",
            " |    |-- latitude: double (nullable = true)\n",
            " |    |-- longitude: double (nullable = true)\n",
            " |    |-- pais: string (nullable = true)\n",
            " |    |-- rua: string (nullable = true)\n",
            " |    |-- zona: string (nullable = true)\n",
            " |-- id: string (nullable = true)\n",
            " |-- quartos: array (nullable = true)\n",
            " |    |-- element: long (containsNull = true)\n",
            " |-- suites: array (nullable = true)\n",
            " |    |-- element: long (containsNull = true)\n",
            " |-- tipo_anuncio: string (nullable = true)\n",
            " |-- tipo_unidade: string (nullable = true)\n",
            " |-- tipo_uso: string (nullable = true)\n",
            " |-- vaga: array (nullable = true)\n",
            " |    |-- element: long (containsNull = true)\n",
            " |-- valores: array (nullable = true)\n",
            " |    |-- element: struct (containsNull = true)\n",
            " |    |    |-- condominio: string (nullable = true)\n",
            " |    |    |-- iptu: string (nullable = true)\n",
            " |    |    |-- tipo: string (nullable = true)\n",
            " |    |    |-- valor: string (nullable = true)\n",
            "\n"
          ]
        }
      ]
    },
    {
      "cell_type": "code",
      "source": [
        "# abrindo colunas do tipo array\n",
        "for col, t_col in dados.dtypes:\n",
        "  # verifica se é ArrayType\n",
        "  if t_col.startswith('array<')  :\n",
        "    # explode a coluna\n",
        "    dados = dados\\\n",
        "         .withColumn(col, f.explode(col).alias(col))\n",
        "    t_col = dict(dados.dtypes)[col]\n",
        "\n",
        "dados.printSchema()"
      ],
      "metadata": {
        "colab": {
          "base_uri": "https://localhost:8080/"
        },
        "id": "ZkJU6E4LHRvr",
        "outputId": "5fd77eb6-0921-4828-d6e6-40dd71be89c3"
      },
      "execution_count": 10,
      "outputs": [
        {
          "output_type": "stream",
          "name": "stdout",
          "text": [
            "root\n",
            " |-- andar: long (nullable = true)\n",
            " |-- area_total: string (nullable = true)\n",
            " |-- area_util: string (nullable = true)\n",
            " |-- banheiros: long (nullable = true)\n",
            " |-- caracteristicas: string (nullable = true)\n",
            " |-- endereco: struct (nullable = true)\n",
            " |    |-- bairro: string (nullable = true)\n",
            " |    |-- cep: string (nullable = true)\n",
            " |    |-- cidade: string (nullable = true)\n",
            " |    |-- estado: string (nullable = true)\n",
            " |    |-- latitude: double (nullable = true)\n",
            " |    |-- longitude: double (nullable = true)\n",
            " |    |-- pais: string (nullable = true)\n",
            " |    |-- rua: string (nullable = true)\n",
            " |    |-- zona: string (nullable = true)\n",
            " |-- id: string (nullable = true)\n",
            " |-- quartos: long (nullable = true)\n",
            " |-- suites: long (nullable = true)\n",
            " |-- tipo_anuncio: string (nullable = true)\n",
            " |-- tipo_unidade: string (nullable = true)\n",
            " |-- tipo_uso: string (nullable = true)\n",
            " |-- vaga: long (nullable = true)\n",
            " |-- valores: struct (nullable = true)\n",
            " |    |-- condominio: string (nullable = true)\n",
            " |    |-- iptu: string (nullable = true)\n",
            " |    |-- tipo: string (nullable = true)\n",
            " |    |-- valor: string (nullable = true)\n",
            "\n"
          ]
        }
      ]
    },
    {
      "cell_type": "code",
      "source": [
        "dados.show(5)"
      ],
      "metadata": {
        "colab": {
          "base_uri": "https://localhost:8080/"
        },
        "id": "2NQ6xgaHtAkC",
        "outputId": "1ec07e1e-0d04-46bf-9911-212d0ba247cc"
      },
      "execution_count": 11,
      "outputs": [
        {
          "output_type": "stream",
          "name": "stdout",
          "text": [
            "+-----+----------+---------+---------+------------------+--------------------+--------------------+-------+------+------------+------------+-----------+----+--------------------+\n",
            "|andar|area_total|area_util|banheiros|   caracteristicas|            endereco|                  id|quartos|suites|tipo_anuncio|tipo_unidade|   tipo_uso|vaga|             valores|\n",
            "+-----+----------+---------+---------+------------------+--------------------+--------------------+-------+------+------------+------------+-----------+----+--------------------+\n",
            "|    3|        43|       43|        1|     Churrasqueira|{Cosmos, 23066271...|a2e6d7a5-0ff0-484...|      2|     0|       Usado| Apartamento|Residencial|   0|{285, null, Venda...|\n",
            "|    3|        43|       43|        1|           Piscina|{Cosmos, 23066271...|a2e6d7a5-0ff0-484...|      2|     0|       Usado| Apartamento|Residencial|   0|{285, null, Venda...|\n",
            "|    3|        43|       43|        1|        Playground|{Cosmos, 23066271...|a2e6d7a5-0ff0-484...|      2|     0|       Usado| Apartamento|Residencial|   0|{285, null, Venda...|\n",
            "|    3|        43|       43|        1|   Salão de festas|{Cosmos, 23066271...|a2e6d7a5-0ff0-484...|      2|     0|       Usado| Apartamento|Residencial|   0|{285, null, Venda...|\n",
            "|    3|        43|       43|        1|Condomínio fechado|{Cosmos, 23066271...|a2e6d7a5-0ff0-484...|      2|     0|       Usado| Apartamento|Residencial|   0|{285, null, Venda...|\n",
            "+-----+----------+---------+---------+------------------+--------------------+--------------------+-------+------+------------+------------+-----------+----+--------------------+\n",
            "only showing top 5 rows\n",
            "\n"
          ]
        }
      ]
    },
    {
      "cell_type": "markdown",
      "source": [
        "## Filtro da base\n",
        "\n",
        "A _Insightplaces_ tem interesse, por enquanto, apenas no mercado **residencial** e com o foco em **apartamentos usados** e apenas para **venda**."
      ],
      "metadata": {
        "id": "--IYviQ2i9Gr"
      }
    },
    {
      "cell_type": "code",
      "source": [
        "dados.createOrReplaceTempView('dfView')\n",
        "apartamentos = spark.sql(\n",
        "    '''\n",
        "    SELECT *\n",
        "    FROM dfView\n",
        "    WHERE tipo_uso = 'Residencial'\n",
        "    AND tipo_unidade = 'Apartamento'\n",
        "    AND tipo_anuncio = 'Usado'\n",
        "    AND valores.tipo = 'Venda'\n",
        "    '''\n",
        ")"
      ],
      "metadata": {
        "id": "AqqR9esSjSm9"
      },
      "execution_count": 12,
      "outputs": []
    },
    {
      "cell_type": "markdown",
      "source": [
        "## Seleção das variáveis"
      ],
      "metadata": {
        "id": "woMXK7vFqaC6"
      }
    },
    {
      "cell_type": "markdown",
      "source": [
        "Temos algumas variáveis que estão dentro do Struct `endereço` e apenas `bairro`, `zona`, `latitude` e `longitude` são de interesse para a análise."
      ],
      "metadata": {
        "id": "OS6RLR7l4zVK"
      }
    },
    {
      "cell_type": "code",
      "source": [
        "apartamentos.printSchema()"
      ],
      "metadata": {
        "colab": {
          "base_uri": "https://localhost:8080/"
        },
        "id": "VfEbF1T44bdC",
        "outputId": "ae6aa583-d078-4ba3-d509-ca4659e427c3"
      },
      "execution_count": 13,
      "outputs": [
        {
          "output_type": "stream",
          "name": "stdout",
          "text": [
            "root\n",
            " |-- andar: long (nullable = true)\n",
            " |-- area_total: string (nullable = true)\n",
            " |-- area_util: string (nullable = true)\n",
            " |-- banheiros: long (nullable = true)\n",
            " |-- caracteristicas: string (nullable = true)\n",
            " |-- endereco: struct (nullable = true)\n",
            " |    |-- bairro: string (nullable = true)\n",
            " |    |-- cep: string (nullable = true)\n",
            " |    |-- cidade: string (nullable = true)\n",
            " |    |-- estado: string (nullable = true)\n",
            " |    |-- latitude: double (nullable = true)\n",
            " |    |-- longitude: double (nullable = true)\n",
            " |    |-- pais: string (nullable = true)\n",
            " |    |-- rua: string (nullable = true)\n",
            " |    |-- zona: string (nullable = true)\n",
            " |-- id: string (nullable = true)\n",
            " |-- quartos: long (nullable = true)\n",
            " |-- suites: long (nullable = true)\n",
            " |-- tipo_anuncio: string (nullable = true)\n",
            " |-- tipo_unidade: string (nullable = true)\n",
            " |-- tipo_uso: string (nullable = true)\n",
            " |-- vaga: long (nullable = true)\n",
            " |-- valores: struct (nullable = true)\n",
            " |    |-- condominio: string (nullable = true)\n",
            " |    |-- iptu: string (nullable = true)\n",
            " |    |-- tipo: string (nullable = true)\n",
            " |    |-- valor: string (nullable = true)\n",
            "\n"
          ]
        }
      ]
    },
    {
      "cell_type": "code",
      "source": [
        "# seleção das variáveis dentro do struct\n",
        "apartamentos = apartamentos\\\n",
        "               .withColumn('bairro', apartamentos['endereco.bairro'])\\\n",
        "               .withColumn('zona', apartamentos['endereco.zona'])\\\n",
        "               .withColumn('latitude', apartamentos['endereco.latitude'])\\\n",
        "               .withColumn('longitude', apartamentos['endereco.longitude'])\\\n",
        "               .drop('endereco')"
      ],
      "metadata": {
        "id": "KG0WhfZ8jwbj"
      },
      "execution_count": 14,
      "outputs": []
    },
    {
      "cell_type": "markdown",
      "source": [
        "Temos também a variável `valores` como `StructType`. Todas as informações são de interesse, então vamos abrir esta variável."
      ],
      "metadata": {
        "id": "xACNnPth6tMi"
      }
    },
    {
      "cell_type": "code",
      "source": [
        "apartamentos = apartamentos\\\n",
        "              .select('*', 'valores.*')\\\n",
        "              .drop('valores')"
      ],
      "metadata": {
        "id": "MfhHcocx7A46"
      },
      "execution_count": 15,
      "outputs": []
    },
    {
      "cell_type": "code",
      "source": [
        "apartamentos.show(5)"
      ],
      "metadata": {
        "colab": {
          "base_uri": "https://localhost:8080/"
        },
        "id": "FCqclMLTvReZ",
        "outputId": "00247b48-9bd2-44fa-ebbc-c294d2108aeb"
      },
      "execution_count": 16,
      "outputs": [
        {
          "output_type": "stream",
          "name": "stdout",
          "text": [
            "+-----+----------+---------+---------+------------------+--------------------+-------+------+------------+------------+-----------+----+------+----------+----------+----------+----------+----+-----+-----+\n",
            "|andar|area_total|area_util|banheiros|   caracteristicas|                  id|quartos|suites|tipo_anuncio|tipo_unidade|   tipo_uso|vaga|bairro|      zona|  latitude| longitude|condominio|iptu| tipo|valor|\n",
            "+-----+----------+---------+---------+------------------+--------------------+-------+------+------------+------------+-----------+----+------+----------+----------+----------+----------+----+-----+-----+\n",
            "|    3|        43|       43|        1|     Churrasqueira|a2e6d7a5-0ff0-484...|      2|     0|       Usado| Apartamento|Residencial|   0|Cosmos|Zona Oeste|-22.888194|-43.629602|       285|null|Venda|20000|\n",
            "|    3|        43|       43|        1|           Piscina|a2e6d7a5-0ff0-484...|      2|     0|       Usado| Apartamento|Residencial|   0|Cosmos|Zona Oeste|-22.888194|-43.629602|       285|null|Venda|20000|\n",
            "|    3|        43|       43|        1|        Playground|a2e6d7a5-0ff0-484...|      2|     0|       Usado| Apartamento|Residencial|   0|Cosmos|Zona Oeste|-22.888194|-43.629602|       285|null|Venda|20000|\n",
            "|    3|        43|       43|        1|   Salão de festas|a2e6d7a5-0ff0-484...|      2|     0|       Usado| Apartamento|Residencial|   0|Cosmos|Zona Oeste|-22.888194|-43.629602|       285|null|Venda|20000|\n",
            "|    3|        43|       43|        1|Condomínio fechado|a2e6d7a5-0ff0-484...|      2|     0|       Usado| Apartamento|Residencial|   0|Cosmos|Zona Oeste|-22.888194|-43.629602|       285|null|Venda|20000|\n",
            "+-----+----------+---------+---------+------------------+--------------------+-------+------+------------+------------+-----------+----+------+----------+----------+----------+----------+----+-----+-----+\n",
            "only showing top 5 rows\n",
            "\n"
          ]
        }
      ]
    },
    {
      "cell_type": "markdown",
      "source": [
        "As variáveis usadas para o filtro também não serão mais necessárias."
      ],
      "metadata": {
        "id": "QHH9_Jfy_FdK"
      }
    },
    {
      "cell_type": "code",
      "source": [
        "apartamentos = apartamentos\\\n",
        "              .drop('tipo', 'tipo_unidade', 'tipo_anuncio')"
      ],
      "metadata": {
        "id": "dFkJk6qO_OQB"
      },
      "execution_count": 17,
      "outputs": []
    },
    {
      "cell_type": "markdown",
      "source": [
        "## Ajustando os tipos de dados"
      ],
      "metadata": {
        "id": "EOcD1-b3pK8Z"
      }
    },
    {
      "cell_type": "markdown",
      "source": [
        "### Para `ShortType`\n",
        "\n",
        "Algumas colunas estão como `long` e podem ocupar muito espaço na memória. Dificilmente 'andar', 'banheiros', 'quartos', 'suites' e 'vaga' estarão entre -9223372036854775808 e 9223372036854775807. É mais realista trabalharmos com a amplitude entre -32868 a 32767.\n"
      ],
      "metadata": {
        "id": "16GUMI4upX_B"
      }
    },
    {
      "cell_type": "code",
      "source": [
        "# colunas para ShortType\n",
        "short_cols = ['andar', 'banheiros', 'quartos', 'suites', 'vaga']\n",
        "\n",
        "apartamentos\\\n",
        "  .select(short_cols)\\\n",
        "  .summary()\\\n",
        "  .show()"
      ],
      "metadata": {
        "colab": {
          "base_uri": "https://localhost:8080/"
        },
        "id": "NJDMWwxb9dCw",
        "outputId": "ab8ab440-2868-46db-f32f-a05ae7923680"
      },
      "execution_count": 18,
      "outputs": [
        {
          "output_type": "stream",
          "name": "stdout",
          "text": [
            "+-------+------------------+------------------+------------------+-----------------+------------------+\n",
            "|summary|             andar|         banheiros|           quartos|           suites|              vaga|\n",
            "+-------+------------------+------------------+------------------+-----------------+------------------+\n",
            "|  count|            256378|            256378|            256378|           256378|            256378|\n",
            "|   mean| 3.586524584792767| 2.612716379720569| 2.684867656351169|1.355151378043358|1.5252790801082776|\n",
            "| stddev|20.518669867683673|1.3280423628287443|0.8914500936128742|1.079796411918633|1.3724415837796045|\n",
            "|    min|                 0|                 1|                 0|                0|                 0|\n",
            "|    25%|                 0|                 2|                 2|                1|                 1|\n",
            "|    50%|                 1|                 2|                 3|                1|                 1|\n",
            "|    75%|                 5|                 3|                 3|                2|                 2|\n",
            "|    max|              1234|                19|                15|               21|                50|\n",
            "+-------+------------------+------------------+------------------+-----------------+------------------+\n",
            "\n"
          ]
        }
      ]
    },
    {
      "cell_type": "code",
      "source": [
        "for col in short_cols:\n",
        "  apartamentos = apartamentos\\\n",
        "                .withColumn(col, apartamentos[col].cast(types.ShortType()))"
      ],
      "metadata": {
        "id": "PoN80fjs8N5q"
      },
      "execution_count": 19,
      "outputs": []
    },
    {
      "cell_type": "markdown",
      "source": [
        "### Para `DoubleType`\n",
        "\n",
        "As colunas `area_total`, `area_util` e `valor` estão registradas como `string` e deveriam ser `double`."
      ],
      "metadata": {
        "id": "bScF2uJgiIMT"
      }
    },
    {
      "cell_type": "code",
      "source": [
        "# colunas para DoubleType\n",
        "double_cols = ['area_total', 'area_util', 'condominio', 'iptu', 'valor']\n",
        "\n",
        "apartamentos\\\n",
        "  .select(double_cols)\\\n",
        "  .summary()\\\n",
        "  .show()"
      ],
      "metadata": {
        "colab": {
          "base_uri": "https://localhost:8080/"
        },
        "id": "nuNr45JfGoQ7",
        "outputId": "3e909b77-53e2-4fb0-c00c-eb1552b66b96"
      },
      "execution_count": 20,
      "outputs": [
        {
          "output_type": "stream",
          "name": "stdout",
          "text": [
            "+-------+------------------+------------------+-----------------+------------------+------------------+\n",
            "|summary|        area_total|         area_util|       condominio|              iptu|             valor|\n",
            "+-------+------------------+------------------+-----------------+------------------+------------------+\n",
            "|  count|            256378|            256378|           252001|            245967|            256378|\n",
            "|   mean| 1779.026347814555|119.32255107692548|5865.844290300435| 5992.105766220672|1349805.8185647754|\n",
            "| stddev|124793.63253120104| 90.92271772107559| 113503.924571155|182018.99399502264|1553606.5824942489|\n",
            "|    min|                 0|                10|                0|                 0|            100000|\n",
            "|    25%|              70.0|              69.0|            380.0|              31.0|          489000.0|\n",
            "|    50%|              90.0|              90.0|            850.0|             294.0|          810000.0|\n",
            "|    75%|             142.0|             140.0|           1430.0|            1700.0|         1590000.0|\n",
            "|    max|                99|                99|              999|              9998|            999999|\n",
            "+-------+------------------+------------------+-----------------+------------------+------------------+\n",
            "\n"
          ]
        }
      ]
    },
    {
      "cell_type": "code",
      "source": [
        "for col in double_cols:\n",
        "  apartamentos = apartamentos\\\n",
        "          .withColumn(col, apartamentos[col].cast(types.DoubleType()))\n",
        "\n",
        "apartamentos.printSchema()"
      ],
      "metadata": {
        "colab": {
          "base_uri": "https://localhost:8080/"
        },
        "id": "K19x1irEwRVC",
        "outputId": "1cb6a529-0e20-42e7-ddc8-d84ec25d6fa7"
      },
      "execution_count": 21,
      "outputs": [
        {
          "output_type": "stream",
          "name": "stdout",
          "text": [
            "root\n",
            " |-- andar: short (nullable = true)\n",
            " |-- area_total: double (nullable = true)\n",
            " |-- area_util: double (nullable = true)\n",
            " |-- banheiros: short (nullable = true)\n",
            " |-- caracteristicas: string (nullable = true)\n",
            " |-- id: string (nullable = true)\n",
            " |-- quartos: short (nullable = true)\n",
            " |-- suites: short (nullable = true)\n",
            " |-- tipo_uso: string (nullable = true)\n",
            " |-- vaga: short (nullable = true)\n",
            " |-- bairro: string (nullable = true)\n",
            " |-- zona: string (nullable = true)\n",
            " |-- latitude: double (nullable = true)\n",
            " |-- longitude: double (nullable = true)\n",
            " |-- condominio: double (nullable = true)\n",
            " |-- iptu: double (nullable = true)\n",
            " |-- valor: double (nullable = true)\n",
            "\n"
          ]
        }
      ]
    },
    {
      "cell_type": "markdown",
      "source": [
        "## Salvando arquivo"
      ],
      "metadata": {
        "id": "vlEhh92Vn10n"
      }
    },
    {
      "cell_type": "code",
      "source": [
        "apartamentos.write.parquet(dir_dados+'parquet')"
      ],
      "metadata": {
        "id": "d8jHY1dE_YN-"
      },
      "execution_count": 22,
      "outputs": []
    },
    {
      "cell_type": "code",
      "source": [
        "apartamentos.write.csv(dir_dados+'csv',\n",
        "                       sep = ';',\n",
        "                       header = True)"
      ],
      "metadata": {
        "id": "VFMXcxVlp88P"
      },
      "execution_count": 24,
      "outputs": []
    },
    {
      "cell_type": "markdown",
      "source": [
        "### Teste de eficiência: parquet x csv"
      ],
      "metadata": {
        "id": "pnV5V-9vqGXn"
      }
    },
    {
      "cell_type": "code",
      "source": [
        "%%time\n",
        "# leitura do csv\n",
        "aptos = spark.read.csv(dir_dados + 'csv',\n",
        "                       sep = ';',\n",
        "                       header = True)\n",
        "aptos.printSchema()"
      ],
      "metadata": {
        "colab": {
          "base_uri": "https://localhost:8080/"
        },
        "id": "bGP-2w8GqNlW",
        "outputId": "7355b5f1-37d3-402c-a36e-a12787fbed8e"
      },
      "execution_count": 25,
      "outputs": [
        {
          "output_type": "stream",
          "name": "stdout",
          "text": [
            "root\n",
            " |-- andar: string (nullable = true)\n",
            " |-- area_total: string (nullable = true)\n",
            " |-- area_util: string (nullable = true)\n",
            " |-- banheiros: string (nullable = true)\n",
            " |-- caracteristicas: string (nullable = true)\n",
            " |-- id: string (nullable = true)\n",
            " |-- quartos: string (nullable = true)\n",
            " |-- suites: string (nullable = true)\n",
            " |-- tipo_uso: string (nullable = true)\n",
            " |-- vaga: string (nullable = true)\n",
            " |-- bairro: string (nullable = true)\n",
            " |-- zona: string (nullable = true)\n",
            " |-- latitude: string (nullable = true)\n",
            " |-- longitude: string (nullable = true)\n",
            " |-- condominio: string (nullable = true)\n",
            " |-- iptu: string (nullable = true)\n",
            " |-- valor: string (nullable = true)\n",
            "\n",
            "CPU times: user 10.3 ms, sys: 964 µs, total: 11.3 ms\n",
            "Wall time: 626 ms\n"
          ]
        }
      ]
    },
    {
      "cell_type": "code",
      "source": [
        "%%time\n",
        "# leitura do parquet\n",
        "aptos = spark.read.parquet(dir_dados + 'parquet')\n",
        "aptos.printSchema()"
      ],
      "metadata": {
        "colab": {
          "base_uri": "https://localhost:8080/"
        },
        "id": "iolptsnHqsU6",
        "outputId": "d7cf3211-1ee9-431d-e169-5ae6955b1960"
      },
      "execution_count": 26,
      "outputs": [
        {
          "output_type": "stream",
          "name": "stdout",
          "text": [
            "root\n",
            " |-- andar: short (nullable = true)\n",
            " |-- area_total: double (nullable = true)\n",
            " |-- area_util: double (nullable = true)\n",
            " |-- banheiros: short (nullable = true)\n",
            " |-- caracteristicas: string (nullable = true)\n",
            " |-- id: string (nullable = true)\n",
            " |-- quartos: short (nullable = true)\n",
            " |-- suites: short (nullable = true)\n",
            " |-- tipo_uso: string (nullable = true)\n",
            " |-- vaga: short (nullable = true)\n",
            " |-- bairro: string (nullable = true)\n",
            " |-- zona: string (nullable = true)\n",
            " |-- latitude: double (nullable = true)\n",
            " |-- longitude: double (nullable = true)\n",
            " |-- condominio: double (nullable = true)\n",
            " |-- iptu: double (nullable = true)\n",
            " |-- valor: double (nullable = true)\n",
            "\n",
            "CPU times: user 3.06 ms, sys: 1.84 ms, total: 4.91 ms\n",
            "Wall time: 241 ms\n"
          ]
        }
      ]
    },
    {
      "cell_type": "markdown",
      "source": [
        "A leitura do Parquet foi 2 vezes mais rápida que do csv. Apesar de inicialmente não ser perceptivo para o usuário, teremos um ganho importante no processamentos dos dados."
      ],
      "metadata": {
        "id": "CaNVG3Kbq8Wf"
      }
    },
    {
      "cell_type": "code",
      "source": [
        "spark.stop()"
      ],
      "metadata": {
        "id": "cBYZgMyBrIpZ"
      },
      "execution_count": 27,
      "outputs": []
    }
  ]
}